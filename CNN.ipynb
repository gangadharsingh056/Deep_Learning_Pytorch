{
 "cells": [
  {
   "cell_type": "code",
   "execution_count": 112,
   "id": "aa2af340-cccf-4df9-b85f-bac65ec234ee",
   "metadata": {},
   "outputs": [],
   "source": [
    "import wandb\n",
    "import numpy as np\n",
    "\n",
    "import torch\n",
    "import torchvision\n",
    "from torchvision import transforms as transforms\n",
    "from torchvision import models\n",
    "\n",
    "import torch.nn as nn\n",
    "import torch.optim as optim\n",
    "\n",
    "import matplotlib.pyplot as plt\n",
    "from tqdm import tqdm\n",
    "\n",
    "import tensorflow as tf"
   ]
  },
  {
   "cell_type": "code",
   "execution_count": 2,
   "id": "ecbe5738-aa4c-41df-9dc0-ea3b7b6c69eb",
   "metadata": {},
   "outputs": [
    {
     "name": "stdout",
     "output_type": "stream",
     "text": [
      "Torch version:       1.11.0+cu102 \n",
      "Tensorflow_version:  2.8.0\n"
     ]
    }
   ],
   "source": [
    "print(\"Torch version:      \",torch.__version__, \"\\nTensorflow_version: \",tf.__version__)"
   ]
  },
  {
   "cell_type": "code",
   "execution_count": 3,
   "id": "1b22512a-ee98-4e7c-bedf-582fac9ab852",
   "metadata": {
    "scrolled": true,
    "tags": []
   },
   "outputs": [
    {
     "name": "stdout",
     "output_type": "stream",
     "text": [
      "Mon May 30 10:27:40 2022       \n",
      "+-----------------------------------------------------------------------------+\n",
      "| NVIDIA-SMI 470.129.06   Driver Version: 470.129.06   CUDA Version: 11.4     |\n",
      "|-------------------------------+----------------------+----------------------+\n",
      "| GPU  Name        Persistence-M| Bus-Id        Disp.A | Volatile Uncorr. ECC |\n",
      "| Fan  Temp  Perf  Pwr:Usage/Cap|         Memory-Usage | GPU-Util  Compute M. |\n",
      "|                               |                      |               MIG M. |\n",
      "|===============================+======================+======================|\n",
      "|   0  NVIDIA TITAN X ...  Off  | 00000000:03:00.0  On |                  N/A |\n",
      "| 23%   30C    P5    11W / 250W |    287MiB / 12194MiB |      2%      Default |\n",
      "|                               |                      |                  N/A |\n",
      "+-------------------------------+----------------------+----------------------+\n",
      "                                                                               \n",
      "+-----------------------------------------------------------------------------+\n",
      "| Processes:                                                                  |\n",
      "|  GPU   GI   CI        PID   Type   Process name                  GPU Memory |\n",
      "|        ID   ID                                                   Usage      |\n",
      "|=============================================================================|\n",
      "+-----------------------------------------------------------------------------+\n"
     ]
    }
   ],
   "source": [
    "!nvidia-smi"
   ]
  },
  {
   "cell_type": "markdown",
   "id": "162fe1b8-e1b3-4bc3-9c80-c0ac291628ef",
   "metadata": {
    "jp-MarkdownHeadingCollapsed": true,
    "tags": []
   },
   "source": [
    "Difference between CNN and DNN\n",
    "----------------------"
   ]
  },
  {
   "cell_type": "markdown",
   "id": "6355d00c-a626-416c-8747-6e79324bec3f",
   "metadata": {
    "tags": []
   },
   "source": [
    "Drawback of DNNs:\n",
    "1. DNN are prone to overfitting(due to many parameters)\n",
    "2. Gradients can vanish due to long chains\n",
    "\n",
    "* Difference:\n",
    "    * DNNs which are complex (many non-linearities) but have fewer parameters and hence less prone to overfitting is when CNN is used\n",
    "    * In DNNs we take aggregation of all input, in CNN we take aggregation of small neighbourhood(for a CNN we only consider a small localised neighborhood of inputs when calculating the output, instead of the entire input layer as in the case of DNNs)\n",
    "    * In CNN, instead of learning the final classifier weights directly, we should also learn to transform the input into a suitable representation through multiple layers of representations and learn the kernel weights for all of those representations instead of using hand-crafted kernels.\n",
    "\n",
    "- CNN\n",
    "    * weighted sum of neighbours. \n",
    "    * major terminology\n",
    "        * kernel/filter\n",
    "        * padding\n",
    "        * stride\n",
    "        * feature map\n",
    "        * convolution\n",
    "        * Pooling\n",
    "    * Features of CNN\n",
    "        * Sparse Connectivity\n",
    "        * Weight sharing\n",
    "* Reference:\n",
    "    - https://stackoverflow.com/questions/42883547/intuitive-understanding-of-1d-2d-and-3d-convolutions-in-convolutional-neural-n\n",
    "    - https://wandb.ai/ayush-thakur/dl-question-bank/reports/Intuitive-understanding-of-1D-2D-and-3D-convolutions-in-convolutional-neural-networks---VmlldzoxOTk2MDA\n",
    "    - Project\n",
    "        - 1D-CNN: Human activity recognition(https://machinelearningmastery.com/cnn-models-for-human-activity-recognition-time-series-classification/)\n",
    "        - 1D-CNN: time series forecasting(https://boostedml.com/2020/04/1-d-convolutional-neural-networks-for-time-series-basic-intuition.html)\n",
    "    - Using LSTM in PyTorch(https://wandb.ai/sauravmaheshkar/LSTM-PyTorch/reports/Using-LSTM-in-PyTorch-A-Tutorial-With-Examples--VmlldzoxMDA2NTA5?galleryTag=pytorch)\n",
    "    - Under the hood LSTM(https://wandb.ai/authors/rnn-viz/reports/Under-the-Hood-of-LSTMs--VmlldzoyNjY0MTg?galleryTag=intermediate)"
   ]
  },
  {
   "cell_type": "markdown",
   "id": "9c989432-4b57-4f89-8404-c2554f3dc5e0",
   "metadata": {
    "jp-MarkdownHeadingCollapsed": true,
    "tags": []
   },
   "source": [
    "Outline\n",
    "---------------\n",
    "1. Download CIFAR10 datase\n",
    "2. Dataloader in torch.utils\n",
    "3. Single and multiple convolutional layers\n",
    "4. LeNet\n",
    "    * Training\n",
    "    * Training on GPU\n",
    "5. Visualization"
   ]
  },
  {
   "cell_type": "code",
   "execution_count": 15,
   "id": "3fd1982e-3ca6-4ac8-be7b-f2d55b95224c",
   "metadata": {},
   "outputs": [
    {
     "name": "stdout",
     "output_type": "stream",
     "text": [
      "Downloading https://www.cs.toronto.edu/~kriz/cifar-10-python.tar.gz to ./data/cifar-10-python.tar.gz\n"
     ]
    },
    {
     "data": {
      "application/vnd.jupyter.widget-view+json": {
       "model_id": "503f7ffda6614fb79df5df7872df109e",
       "version_major": 2,
       "version_minor": 0
      },
      "text/plain": [
       "0it [00:00, ?it/s]"
      ]
     },
     "metadata": {},
     "output_type": "display_data"
    },
    {
     "name": "stdout",
     "output_type": "stream",
     "text": [
      "Extracting ./data/cifar-10-python.tar.gz to ./data\n"
     ]
    }
   ],
   "source": [
    "# The dataset is divided into five training batches and one test batch, each with 10000 images. \n",
    "# The test batch contains exactly 1000 randomly-selected images from each class.\n",
    "\n",
    "trainset = torchvision.datasets.CIFAR10(root=\"./data\", train=True, download=True, transform=transforms.ToTensor())"
   ]
  },
  {
   "cell_type": "markdown",
   "id": "dd2b0137-3520-41a5-8882-74f688c69b77",
   "metadata": {},
   "source": [
    "* Reference for CIFAutils dataset\n",
    "- This tech report (Chapter 3) describes the dataset and the methodology followed when collecting it in much greater detail. Please cite it if you intend to use this dataset.\n",
    "- Learning Multiple Layers of Features from Tiny Images, Alex Krizhevsky, 2009."
   ]
  },
  {
   "cell_type": "code",
   "execution_count": 4,
   "id": "2f3bcac9-293c-4b2d-8102-63169b1a5b85",
   "metadata": {},
   "outputs": [],
   "source": [
    "classes = {0:'airplane', 1:'automobile', 2:'bird', 3:'cat', 4:'deer', 5:'dog', 6:'frog', 7:'horse', 8:'ship', 9:'truck'}\n",
    "trainloader = torch.utils.data.DataLoader(trainset, batch_size=4, shuffle=True, num_workers=6)"
   ]
  },
  {
   "cell_type": "code",
   "execution_count": 31,
   "id": "956d4f66-26dd-4c29-b5f8-cbe52f4bb658",
   "metadata": {},
   "outputs": [
    {
     "name": "stdout",
     "output_type": "stream",
     "text": [
      "torch.Size([4, 3, 32, 32])\n",
      "torch.Size([3, 32, 32]) \n",
      "Label: horse\n"
     ]
    }
   ],
   "source": [
    "dataiter = iter(trainloader)\n",
    "images, labels = dataiter.next()\n",
    "\n",
    "print(images.shape) # [4,3,32,32] [Batch_size, Col_dim(RGB), Length, Width]\n",
    "print(images[0].shape,\"\\nLabel:\", classes[labels[0].item()])"
   ]
  },
  {
   "cell_type": "code",
   "execution_count": 32,
   "id": "dcd67419-4302-4d80-850e-8698f6c5139f",
   "metadata": {},
   "outputs": [
    {
     "name": "stdout",
     "output_type": "stream",
     "text": [
      "(3, 32, 32)\n"
     ]
    }
   ],
   "source": [
    "# visualize data\n",
    "npimg = images[0].numpy()\n",
    "print(npimg.shape)"
   ]
  },
  {
   "cell_type": "code",
   "execution_count": 33,
   "id": "5df9c6b1-beb4-4af6-ae68-3893282935d4",
   "metadata": {},
   "outputs": [
    {
     "name": "stdout",
     "output_type": "stream",
     "text": [
      "(32, 32, 3)\n"
     ]
    }
   ],
   "source": [
    "npimg = np.transpose(npimg, (1,2,0)) # transposing the image to dimension len, width, channel\n",
    "print(npimg.shape)"
   ]
  },
  {
   "cell_type": "code",
   "execution_count": 5,
   "id": "9b5860b3-decb-4d5d-9242-8f2f6658fc69",
   "metadata": {},
   "outputs": [],
   "source": [
    "def plot_img(img):\n",
    "    img = img.numpy()\n",
    "    plt.figure(figsize=(4,4))\n",
    "    # plt.title(classes[label])\n",
    "    plt.imshow(np.transpose(img, (1,2,0)))\n",
    "    plt.show()"
   ]
  },
  {
   "cell_type": "code",
   "execution_count": 52,
   "id": "9e86f13e-9ebc-4849-a604-3a484a5b9535",
   "metadata": {},
   "outputs": [
    {
     "data": {
      "image/png": "[encoded data removed]",
      "text/plain": [
       "<Figure size 288x288 with 1 Axes>"
      ]
     },
     "metadata": {
      "needs_background": "light"
     },
     "output_type": "display_data"
    }
   ],
   "source": [
    "plot_img(images[0])"
   ]
  },
  {
   "cell_type": "code",
   "execution_count": 55,
   "id": "21bb3211-3492-4f63-8c16-46ac202b8803",
   "metadata": {},
   "outputs": [
    {
     "data": {
      "image/png": "[encoded data removed]",
      "text/plain": [
       "<Figure size 288x288 with 1 Axes>"
      ]
     },
     "metadata": {
      "needs_background": "light"
     },
     "output_type": "display_data"
    },
    {
     "name": "stdout",
     "output_type": "stream",
     "text": [
      "horse\tfrog\tcat\tbird\n"
     ]
    }
   ],
   "source": [
    "plot_img(torchvision.utils.make_grid(images))\n",
    "print(\"\\t\".join(classes[int(labels[j])] for j in range(4)))"
   ]
  },
  {
   "cell_type": "code",
   "execution_count": 66,
   "id": "fab70f0f-9789-4f0c-97cb-37a41a825002",
   "metadata": {},
   "outputs": [],
   "source": [
    "# single convolution layer\n",
    "class SimpleCNN(nn.Module):\n",
    "    def __init__(self):\n",
    "        super(SimpleCNN, self).__init__() # calling init of parent class\n",
    "        # in_channel=3, out_channel = 16*16, kernel_size = 3*3, padding = (1,1), stride = (2,2)\n",
    "        self.conv1 = nn.Conv2d(3,16,3, padding=(1,1), stride=(1,1)) # since our input is of 4 dim: len,wid,channel,batch_size, we are applying 2d conv operation\n",
    "    \n",
    "    def forward(self, x):\n",
    "        x = self.conv1(x)\n",
    "        return x"
   ]
  },
  {
   "cell_type": "code",
   "execution_count": 67,
   "id": "099988cc-50b3-43d6-90e0-628ab47509ea",
   "metadata": {},
   "outputs": [
    {
     "name": "stdout",
     "output_type": "stream",
     "text": [
      "CPU times: user 135 ms, sys: 0 ns, total: 135 ms\n",
      "Wall time: 24.4 ms\n"
     ]
    },
    {
     "data": {
      "text/plain": [
       "torch.Size([4, 16, 32, 32])"
      ]
     },
     "execution_count": 67,
     "metadata": {},
     "output_type": "execute_result"
    }
   ],
   "source": [
    "%%time\n",
    "net = SimpleCNN()\n",
    "# [4, 16, 30, 30]: [batch_size, num_output_channel(16 channels are used), len, width]\n",
    "out = net(images) #input_img is of shape: [4, 3, 32, 32]\n",
    "out.shape"
   ]
  },
  {
   "cell_type": "code",
   "execution_count": 68,
   "id": "a08d15a8-9098-4fb3-b303-fc7e5fb7ff2b",
   "metadata": {},
   "outputs": [
    {
     "name": "stdout",
     "output_type": "stream",
     "text": [
      "torch.Size([16, 3, 3, 3])\n",
      "torch.Size([16])\n"
     ]
    }
   ],
   "source": [
    "for param in net.parameters():\n",
    "    #[16, 3, 3, 3]: [wts_of_kernels(16 kernels), input_channels(RGB), kernel_shape(3*3)]\n",
    "    #another :[16] : [bias](each kernel has 1 bias term)\n",
    "    print(param.shape) "
   ]
  },
  {
   "cell_type": "code",
   "execution_count": 69,
   "id": "396a1cde-8e0a-4ebc-87df-13a609e8d8c1",
   "metadata": {},
   "outputs": [
    {
     "name": "stdout",
     "output_type": "stream",
     "text": [
      "(32, 32)\n"
     ]
    },
    {
     "data": {
      "image/png": "[encoded data removed]",
      "text/plain": [
       "<Figure size 432x288 with 1 Axes>"
      ]
     },
     "metadata": {
      "needs_background": "light"
     },
     "output_type": "display_data"
    }
   ],
   "source": [
    "out1 = out[0,0,:,:].detach().numpy() # detaching it to make numpy array\n",
    "print(out1.shape)\n",
    "\n",
    "plt.imshow(out1)\n",
    "plt.show()"
   ]
  },
  {
   "cell_type": "code",
   "execution_count": 75,
   "id": "9659675d-0ab0-4eec-9ed4-227c28c6ca2c",
   "metadata": {},
   "outputs": [],
   "source": [
    "# single convolution layer\n",
    "class TwoLayerCNN(nn.Module):\n",
    "    def __init__(self):\n",
    "        super(TwoLayerCNN, self).__init__() # calling init of parent class\n",
    "        # in_channel=3, out_channel = 16*16, kernel_size = 3*3, padding = (1,1), stride = (2,2)\n",
    "        self.model = nn.Sequential(nn.Conv2d(3,8,3), #i/p tensor:[N,3,32,32] -> [N,8,30,30]: o/p tensor\n",
    "                                  nn.Conv2d(8,16,3)) # [N,8,30,30] -> [N,16,28,28]\n",
    "    \n",
    "    def forward(self, x):\n",
    "        x = self.model(x)\n",
    "        return x"
   ]
  },
  {
   "cell_type": "code",
   "execution_count": 76,
   "id": "b19f5cb7-3630-4ea4-b1f0-ee41519d6348",
   "metadata": {},
   "outputs": [
    {
     "name": "stdout",
     "output_type": "stream",
     "text": [
      "CPU times: user 2.22 ms, sys: 0 ns, total: 2.22 ms\n",
      "Wall time: 1.48 ms\n"
     ]
    },
    {
     "data": {
      "text/plain": [
       "torch.Size([4, 16, 28, 28])"
      ]
     },
     "execution_count": 76,
     "metadata": {},
     "output_type": "execute_result"
    }
   ],
   "source": [
    "%%time\n",
    "twonet = TwoLayerCNN()\n",
    "two_out = twonet(images)\n",
    "two_out.shape"
   ]
  },
  {
   "cell_type": "code",
   "execution_count": 77,
   "id": "f208c2e9-119e-4636-900a-f32a3b799d05",
   "metadata": {},
   "outputs": [
    {
     "data": {
      "text/plain": [
       "<matplotlib.image.AxesImage at 0x7f36305dfdc0>"
      ]
     },
     "execution_count": 77,
     "metadata": {},
     "output_type": "execute_result"
    },
    {
     "data": {
      "image/png": "[encoded data removed]",
      "text/plain": [
       "<Figure size 432x288 with 1 Axes>"
      ]
     },
     "metadata": {
      "needs_background": "light"
     },
     "output_type": "display_data"
    }
   ],
   "source": [
    "plt.imshow(two_out[0,0,:,:].detach().numpy())"
   ]
  },
  {
   "cell_type": "code",
   "execution_count": 78,
   "id": "c911fdb4-a519-47b1-a765-0b193c1950d7",
   "metadata": {},
   "outputs": [],
   "source": [
    "# single convolution layer\n",
    "class DeepCNN(nn.Module):\n",
    "    def __init__(self):\n",
    "        super(DeepCNN, self).__init__() # calling init of parent class\n",
    "        self.model = nn.Sequential(nn.Conv2d(3,6,5),          #[N,3,32,32] -> [N,6,28,28]\n",
    "                                   nn.AvgPool2d(2, stride=2), #[N,6,28,28] -> [N,6,14,14]\n",
    "                                   nn.Conv2d(6,16,5),         #[N,6,14,14] -> [N,16,10,10] \n",
    "                                  nn.AvgPool2d(2, stride=2))  #[N,16,10,10]  -> [N,16,5,5]\n",
    "    \n",
    "    def forward(self, x):\n",
    "        x = self.model(x)\n",
    "        return x"
   ]
  },
  {
   "cell_type": "code",
   "execution_count": 79,
   "id": "932f26f7-5645-4c96-8746-2b8ca5689803",
   "metadata": {},
   "outputs": [
    {
     "name": "stdout",
     "output_type": "stream",
     "text": [
      "CPU times: user 166 ms, sys: 0 ns, total: 166 ms\n",
      "Wall time: 74.9 ms\n"
     ]
    },
    {
     "data": {
      "text/plain": [
       "torch.Size([4, 16, 5, 5])"
      ]
     },
     "execution_count": 79,
     "metadata": {},
     "output_type": "execute_result"
    }
   ],
   "source": [
    "%%time\n",
    "deep_net=  DeepCNN()\n",
    "deep_out = deep_net(images)\n",
    "deep_out.shape"
   ]
  },
  {
   "cell_type": "code",
   "execution_count": 80,
   "id": "881d0d21-a469-4985-8369-81dbe5623bd3",
   "metadata": {},
   "outputs": [
    {
     "data": {
      "text/plain": [
       "<matplotlib.image.AxesImage at 0x7f3654173d90>"
      ]
     },
     "execution_count": 80,
     "metadata": {},
     "output_type": "execute_result"
    },
    {
     "data": {
      "image/png": "[encoded data removed]",
      "text/plain": [
       "<Figure size 432x288 with 1 Axes>"
      ]
     },
     "metadata": {
      "needs_background": "light"
     },
     "output_type": "display_data"
    }
   ],
   "source": [
    "plt.imshow(deep_out[0,0,:,:].detach().numpy())"
   ]
  },
  {
   "cell_type": "code",
   "execution_count": 30,
   "id": "b4c94b9f-a775-41c5-8503-228e117f5f9a",
   "metadata": {},
   "outputs": [],
   "source": [
    "# LeNet Architecture\n",
    "class LeNet(nn.Module):\n",
    "    def __init__(self):\n",
    "        super(LeNet, self).__init__()\n",
    "        #building cnn block\n",
    "        self.cnn = nn.Sequential(nn.Conv2d(3,6,5),         # [N,3,32,32] -> [N,6,28,28]\n",
    "                                nn.ReLU(),                 # [N,6,28,28] -> [N,6,28,28]\n",
    "                                nn.AvgPool2d(2, stride=2), # [N,6,28,28] -> [N,6,14,14]\n",
    "                                nn.Conv2d(6,16,5),         # [N,6,14,14] -> [N,16,10,10]\n",
    "                                nn.ReLU(),                 # [N,16,10,10] -> [N,16,10,10]\n",
    "                                nn.AvgPool2d(2, stride=2)) # [N,16,10,10] -> [N,16,5,5]\n",
    "        #building FFN block\n",
    "        self.ffn = nn.Sequential(nn.Linear(400,120),       #[N,400] -> [N, 120]\n",
    "                                nn.ReLU(),                 #[N, 120] -> [N, 120]\n",
    "                                nn.Linear(120,84),         #[N, 120] -> [N, 84]\n",
    "                                nn.ReLU(),                 #[N, 84] -> [N, 84]\n",
    "                                nn.Linear(84,10))          #[N, 84] -> [N, 10]\n",
    "    \n",
    "    def forward(self, x):\n",
    "        x = self.cnn(x)\n",
    "        #print(\"After Cnn block: \",x.shape)\n",
    "        #Flattening the tensor, keeping the first dimension: x.size(0) and collapsing the rest into one\n",
    "        x = x.view(x.size(0), -1)\n",
    "        #print(\"After view: \",x.shape)\n",
    "        \n",
    "        x = self.ffn(x)\n",
    "        #print(\"After FFN block: \",x.shape)\n",
    "        #as softmax is not done, the output will be largest value\n",
    "        return x"
   ]
  },
  {
   "cell_type": "code",
   "execution_count": 84,
   "id": "45779a3f-e288-4aab-ab49-df7e42231abb",
   "metadata": {},
   "outputs": [
    {
     "name": "stdout",
     "output_type": "stream",
     "text": [
      "After Cnn block:  torch.Size([4, 16, 5, 5])\n",
      "After view:  torch.Size([4, 400])\n",
      "After FFN block:  torch.Size([4, 10])\n",
      "CPU times: user 55.1 ms, sys: 0 ns, total: 55.1 ms\n",
      "Wall time: 10.5 ms\n"
     ]
    },
    {
     "data": {
      "text/plain": [
       "torch.Size([4, 10])"
      ]
     },
     "execution_count": 84,
     "metadata": {},
     "output_type": "execute_result"
    }
   ],
   "source": [
    "%%time\n",
    "le_net = LeNet()\n",
    "le_out = le_net.forward(images)\n",
    "le_out.shape"
   ]
  },
  {
   "cell_type": "code",
   "execution_count": 89,
   "id": "cd3f8825-e8d1-4e9c-a3c9-fe4ccd40325f",
   "metadata": {},
   "outputs": [
    {
     "name": "stdout",
     "output_type": "stream",
     "text": [
      "tensor([[ 0.0386, -0.0014,  0.1269,  0.0581,  0.0668, -0.0034,  0.0406, -0.1101,\n",
      "          0.0333,  0.0512],\n",
      "        [ 0.0311,  0.0027,  0.1349,  0.0623,  0.0740,  0.0013,  0.0304, -0.1067,\n",
      "          0.0143,  0.0519],\n",
      "        [ 0.0136,  0.0014,  0.1323,  0.0599,  0.0721, -0.0097,  0.0369, -0.1078,\n",
      "          0.0013,  0.0517],\n",
      "        [ 0.0178,  0.0070,  0.1195,  0.0572,  0.0787, -0.0033,  0.0443, -0.0918,\n",
      "          0.0240,  0.0412]], grad_fn=<AddmmBackward0>)\n"
     ]
    }
   ],
   "source": [
    "print(le_out)"
   ]
  },
  {
   "cell_type": "code",
   "execution_count": 91,
   "id": "c4b90d9d-d010-40d1-839e-5005fbeb4251",
   "metadata": {},
   "outputs": [
    {
     "name": "stdout",
     "output_type": "stream",
     "text": [
      "tensor([2, 2, 2, 2])\n"
     ]
    }
   ],
   "source": [
    "max_val, pred_class = torch.max(le_out.data, 1)\n",
    "print(pred_class)"
   ]
  },
  {
   "cell_type": "code",
   "execution_count": 7,
   "id": "f81ea029-3fdf-420d-86a2-0f98ed4efb53",
   "metadata": {},
   "outputs": [
    {
     "name": "stdout",
     "output_type": "stream",
     "text": [
      "Files already downloaded and verified\n",
      "Files already downloaded and verified\n"
     ]
    }
   ],
   "source": [
    "# Trainig LeNet model\n",
    "batch_size = 128\n",
    "trainset = torchvision.datasets.CIFAR10(root=\"./data/\", train=True,download=True,transform=transforms.ToTensor())\n",
    "trainloader = torch.utils.data.DataLoader(trainset, batch_size=batch_size, shuffle=True)\n",
    "testset = torchvision.datasets.CIFAR10(root=\"./data/\", train=False,download=True,transform=transforms.ToTensor())\n",
    "testloader = torch.utils.data.DataLoader(testset, batch_size=batch_size, shuffle=False)"
   ]
  },
  {
   "cell_type": "code",
   "execution_count": 12,
   "id": "ff841c69-f55d-410d-988c-fe63ad3ac47b",
   "metadata": {},
   "outputs": [],
   "source": [
    "def evaluation(dataloader):\n",
    "    total, correct = 0, 0\n",
    "    for data in dataloader:\n",
    "        inputs, labels = data\n",
    "        outputs = lenet(inputs)\n",
    "        _, pred = torch.max(outputs.data, 1)\n",
    "        total += labels.size(0)\n",
    "        correct += (pred == labels).sum().item()\n",
    "    return 100 * correct / total"
   ]
  },
  {
   "cell_type": "code",
   "execution_count": 9,
   "id": "74dc590d-3007-4510-a328-6ddb40e59f00",
   "metadata": {},
   "outputs": [],
   "source": [
    "lenet = LeNet()\n",
    "loss_fn = nn.CrossEntropyLoss()\n",
    "opt = optim.Adam(lenet.parameters())"
   ]
  },
  {
   "cell_type": "code",
   "execution_count": 13,
   "id": "7af490ef-ba6a-412a-9489-c815d805c322",
   "metadata": {
    "scrolled": true,
    "tags": []
   },
   "outputs": [
    {
     "name": "stderr",
     "output_type": "stream",
     "text": [
      "  6%|▋         | 1/16 [00:20<05:01, 20.07s/it]"
     ]
    },
    {
     "name": "stdout",
     "output_type": "stream",
     "text": [
      "Epoch: 0/16, Test acc: 42.21, Train acc: 42.92\n"
     ]
    },
    {
     "name": "stderr",
     "output_type": "stream",
     "text": [
      " 12%|█▎        | 2/16 [00:40<04:40, 20.02s/it]"
     ]
    },
    {
     "name": "stdout",
     "output_type": "stream",
     "text": [
      "Epoch: 1/16, Test acc: 46.83, Train acc: 47.74\n"
     ]
    },
    {
     "name": "stderr",
     "output_type": "stream",
     "text": [
      " 19%|█▉        | 3/16 [00:59<04:19, 19.94s/it]"
     ]
    },
    {
     "name": "stdout",
     "output_type": "stream",
     "text": [
      "Epoch: 2/16, Test acc: 49.17, Train acc: 50.30\n"
     ]
    },
    {
     "name": "stderr",
     "output_type": "stream",
     "text": [
      " 25%|██▌       | 4/16 [01:19<03:59, 19.93s/it]"
     ]
    },
    {
     "name": "stdout",
     "output_type": "stream",
     "text": [
      "Epoch: 3/16, Test acc: 50.19, Train acc: 51.98\n"
     ]
    },
    {
     "name": "stderr",
     "output_type": "stream",
     "text": [
      " 31%|███▏      | 5/16 [01:40<03:42, 20.25s/it]"
     ]
    },
    {
     "name": "stdout",
     "output_type": "stream",
     "text": [
      "Epoch: 4/16, Test acc: 52.19, Train acc: 54.74\n"
     ]
    },
    {
     "name": "stderr",
     "output_type": "stream",
     "text": [
      " 38%|███▊      | 6/16 [02:01<03:23, 20.33s/it]"
     ]
    },
    {
     "name": "stdout",
     "output_type": "stream",
     "text": [
      "Epoch: 5/16, Test acc: 53.21, Train acc: 56.21\n"
     ]
    },
    {
     "name": "stderr",
     "output_type": "stream",
     "text": [
      " 44%|████▍     | 7/16 [02:21<03:02, 20.32s/it]"
     ]
    },
    {
     "name": "stdout",
     "output_type": "stream",
     "text": [
      "Epoch: 6/16, Test acc: 54.45, Train acc: 58.37\n"
     ]
    },
    {
     "name": "stderr",
     "output_type": "stream",
     "text": [
      " 50%|█████     | 8/16 [02:41<02:42, 20.26s/it]"
     ]
    },
    {
     "name": "stdout",
     "output_type": "stream",
     "text": [
      "Epoch: 7/16, Test acc: 55.30, Train acc: 59.75\n"
     ]
    },
    {
     "name": "stderr",
     "output_type": "stream",
     "text": [
      " 56%|█████▋    | 9/16 [03:01<02:20, 20.10s/it]"
     ]
    },
    {
     "name": "stdout",
     "output_type": "stream",
     "text": [
      "Epoch: 8/16, Test acc: 54.53, Train acc: 59.76\n"
     ]
    },
    {
     "name": "stderr",
     "output_type": "stream",
     "text": [
      " 62%|██████▎   | 10/16 [03:21<02:00, 20.15s/it]"
     ]
    },
    {
     "name": "stdout",
     "output_type": "stream",
     "text": [
      "Epoch: 9/16, Test acc: 55.51, Train acc: 61.41\n"
     ]
    },
    {
     "name": "stderr",
     "output_type": "stream",
     "text": [
      " 69%|██████▉   | 11/16 [03:41<01:41, 20.21s/it]"
     ]
    },
    {
     "name": "stdout",
     "output_type": "stream",
     "text": [
      "Epoch: 10/16, Test acc: 55.55, Train acc: 62.27\n"
     ]
    },
    {
     "name": "stderr",
     "output_type": "stream",
     "text": [
      " 75%|███████▌  | 12/16 [04:01<01:20, 20.14s/it]"
     ]
    },
    {
     "name": "stdout",
     "output_type": "stream",
     "text": [
      "Epoch: 11/16, Test acc: 56.36, Train acc: 63.36\n"
     ]
    },
    {
     "name": "stderr",
     "output_type": "stream",
     "text": [
      " 81%|████████▏ | 13/16 [04:21<01:00, 20.01s/it]"
     ]
    },
    {
     "name": "stdout",
     "output_type": "stream",
     "text": [
      "Epoch: 12/16, Test acc: 56.16, Train acc: 64.67\n"
     ]
    },
    {
     "name": "stderr",
     "output_type": "stream",
     "text": [
      " 88%|████████▊ | 14/16 [04:41<00:39, 19.97s/it]"
     ]
    },
    {
     "name": "stdout",
     "output_type": "stream",
     "text": [
      "Epoch: 13/16, Test acc: 56.09, Train acc: 65.19\n"
     ]
    },
    {
     "name": "stderr",
     "output_type": "stream",
     "text": [
      " 94%|█████████▍| 15/16 [05:01<00:19, 19.99s/it]"
     ]
    },
    {
     "name": "stdout",
     "output_type": "stream",
     "text": [
      "Epoch: 14/16, Test acc: 57.20, Train acc: 66.17\n"
     ]
    },
    {
     "name": "stderr",
     "output_type": "stream",
     "text": [
      "100%|██████████| 16/16 [05:21<00:00, 20.09s/it]"
     ]
    },
    {
     "name": "stdout",
     "output_type": "stream",
     "text": [
      "Epoch: 15/16, Test acc: 56.30, Train acc: 66.04\n"
     ]
    },
    {
     "name": "stderr",
     "output_type": "stream",
     "text": [
      "\n"
     ]
    },
    {
     "data": {
      "image/png": "[encoded data removed]",
      "text/plain": [
       "<Figure size 432x288 with 1 Axes>"
      ]
     },
     "metadata": {
      "needs_background": "light"
     },
     "output_type": "display_data"
    },
    {
     "name": "stdout",
     "output_type": "stream",
     "text": [
      "CPU times: user 33min 50s, sys: 7.18 s, total: 33min 58s\n",
      "Wall time: 5min 21s\n"
     ]
    }
   ],
   "source": [
    "%%time\n",
    "loss_arr = []\n",
    "loss_epoch_arr = []\n",
    "max_epochs = 16\n",
    "\n",
    "for epoch in tqdm(range(max_epochs)):\n",
    "    for i, data in enumerate(trainloader, 0):\n",
    "        inputs, label = data\n",
    "        \n",
    "        opt.zero_grad()\n",
    "        \n",
    "        outputs = lenet(inputs)\n",
    "        loss = loss_fn(outputs, label)\n",
    "        loss.backward()\n",
    "        opt.step()\n",
    "        \n",
    "        loss_arr.append(loss.item())\n",
    "    loss_epoch_arr.append(loss.item())\n",
    "    print('Epoch: %d/%d, Test acc: %0.2f, Train acc: %0.2f'%(epoch, max_epochs, evaluation(testloader), evaluation(trainloader)))\n",
    "\n",
    "plt.plot(loss_epoch_arr)\n",
    "plt.show()"
   ]
  },
  {
   "cell_type": "code",
   "execution_count": 15,
   "id": "8a8b8b47-f717-4f39-8731-59524c89c38f",
   "metadata": {},
   "outputs": [],
   "source": [
    "# Relu activation function\n",
    "lenet = LeNet()\n",
    "loss_fn = nn.CrossEntropyLoss()\n",
    "opt = optim.Adam(lenet.parameters())"
   ]
  },
  {
   "cell_type": "code",
   "execution_count": 16,
   "id": "1831e2dd-abd4-4f26-b3fb-68106f59fdeb",
   "metadata": {
    "scrolled": true,
    "tags": []
   },
   "outputs": [
    {
     "name": "stderr",
     "output_type": "stream",
     "text": [
      "  6%|▋         | 1/16 [00:14<03:39, 14.66s/it]"
     ]
    },
    {
     "name": "stdout",
     "output_type": "stream",
     "text": [
      "Epoch: 0/16, Test acc: 39.51, Train acc: 39.19\n"
     ]
    },
    {
     "name": "stderr",
     "output_type": "stream",
     "text": [
      " 12%|█▎        | 2/16 [00:29<03:25, 14.71s/it]"
     ]
    },
    {
     "name": "stdout",
     "output_type": "stream",
     "text": [
      "Epoch: 1/16, Test acc: 47.08, Train acc: 47.17\n"
     ]
    },
    {
     "name": "stderr",
     "output_type": "stream",
     "text": [
      " 19%|█▉        | 3/16 [00:44<03:10, 14.66s/it]"
     ]
    },
    {
     "name": "stdout",
     "output_type": "stream",
     "text": [
      "Epoch: 2/16, Test acc: 50.02, Train acc: 49.98\n"
     ]
    },
    {
     "name": "stderr",
     "output_type": "stream",
     "text": [
      " 25%|██▌       | 4/16 [00:58<02:56, 14.75s/it]"
     ]
    },
    {
     "name": "stdout",
     "output_type": "stream",
     "text": [
      "Epoch: 3/16, Test acc: 51.57, Train acc: 52.53\n"
     ]
    },
    {
     "name": "stderr",
     "output_type": "stream",
     "text": [
      " 31%|███▏      | 5/16 [01:13<02:41, 14.72s/it]"
     ]
    },
    {
     "name": "stdout",
     "output_type": "stream",
     "text": [
      "Epoch: 4/16, Test acc: 52.95, Train acc: 54.30\n"
     ]
    },
    {
     "name": "stderr",
     "output_type": "stream",
     "text": [
      " 38%|███▊      | 6/16 [01:28<02:26, 14.67s/it]"
     ]
    },
    {
     "name": "stdout",
     "output_type": "stream",
     "text": [
      "Epoch: 5/16, Test acc: 54.08, Train acc: 55.79\n"
     ]
    },
    {
     "name": "stderr",
     "output_type": "stream",
     "text": [
      " 44%|████▍     | 7/16 [01:42<02:12, 14.67s/it]"
     ]
    },
    {
     "name": "stdout",
     "output_type": "stream",
     "text": [
      "Epoch: 6/16, Test acc: 55.72, Train acc: 57.31\n"
     ]
    },
    {
     "name": "stderr",
     "output_type": "stream",
     "text": [
      " 50%|█████     | 8/16 [01:57<01:57, 14.71s/it]"
     ]
    },
    {
     "name": "stdout",
     "output_type": "stream",
     "text": [
      "Epoch: 7/16, Test acc: 55.33, Train acc: 57.49\n"
     ]
    },
    {
     "name": "stderr",
     "output_type": "stream",
     "text": [
      " 56%|█████▋    | 9/16 [02:12<01:42, 14.71s/it]"
     ]
    },
    {
     "name": "stdout",
     "output_type": "stream",
     "text": [
      "Epoch: 8/16, Test acc: 56.31, Train acc: 58.41\n"
     ]
    },
    {
     "name": "stderr",
     "output_type": "stream",
     "text": [
      " 62%|██████▎   | 10/16 [02:26<01:28, 14.70s/it]"
     ]
    },
    {
     "name": "stdout",
     "output_type": "stream",
     "text": [
      "Epoch: 9/16, Test acc: 57.11, Train acc: 59.89\n"
     ]
    },
    {
     "name": "stderr",
     "output_type": "stream",
     "text": [
      " 69%|██████▉   | 11/16 [02:41<01:13, 14.65s/it]"
     ]
    },
    {
     "name": "stdout",
     "output_type": "stream",
     "text": [
      "Epoch: 10/16, Test acc: 58.23, Train acc: 61.30\n"
     ]
    },
    {
     "name": "stderr",
     "output_type": "stream",
     "text": [
      " 75%|███████▌  | 12/16 [02:56<00:58, 14.60s/it]"
     ]
    },
    {
     "name": "stdout",
     "output_type": "stream",
     "text": [
      "Epoch: 11/16, Test acc: 58.34, Train acc: 62.00\n"
     ]
    },
    {
     "name": "stderr",
     "output_type": "stream",
     "text": [
      " 81%|████████▏ | 13/16 [03:10<00:43, 14.56s/it]"
     ]
    },
    {
     "name": "stdout",
     "output_type": "stream",
     "text": [
      "Epoch: 12/16, Test acc: 58.46, Train acc: 62.51\n"
     ]
    },
    {
     "name": "stderr",
     "output_type": "stream",
     "text": [
      " 88%|████████▊ | 14/16 [03:24<00:29, 14.55s/it]"
     ]
    },
    {
     "name": "stdout",
     "output_type": "stream",
     "text": [
      "Epoch: 13/16, Test acc: 58.51, Train acc: 62.20\n"
     ]
    },
    {
     "name": "stderr",
     "output_type": "stream",
     "text": [
      " 94%|█████████▍| 15/16 [03:39<00:14, 14.59s/it]"
     ]
    },
    {
     "name": "stdout",
     "output_type": "stream",
     "text": [
      "Epoch: 14/16, Test acc: 59.65, Train acc: 64.06\n"
     ]
    },
    {
     "name": "stderr",
     "output_type": "stream",
     "text": [
      "100%|██████████| 16/16 [03:54<00:00, 14.65s/it]"
     ]
    },
    {
     "name": "stdout",
     "output_type": "stream",
     "text": [
      "Epoch: 15/16, Test acc: 60.31, Train acc: 64.93\n"
     ]
    },
    {
     "name": "stderr",
     "output_type": "stream",
     "text": [
      "\n"
     ]
    },
    {
     "data": {
      "image/png": "[encoded data removed]",
      "text/plain": [
       "<Figure size 432x288 with 1 Axes>"
      ]
     },
     "metadata": {
      "needs_background": "light"
     },
     "output_type": "display_data"
    },
    {
     "name": "stdout",
     "output_type": "stream",
     "text": [
      "CPU times: user 25min 6s, sys: 1.74 s, total: 25min 7s\n",
      "Wall time: 3min 54s\n"
     ]
    }
   ],
   "source": [
    "%%time\n",
    "loss_arr = []\n",
    "loss_epoch_arr = []\n",
    "max_epochs = 16\n",
    "\n",
    "for epoch in tqdm(range(max_epochs)):\n",
    "    for i, data in enumerate(trainloader, 0):\n",
    "        inputs, label = data\n",
    "        \n",
    "        opt.zero_grad()\n",
    "        \n",
    "        outputs = lenet(inputs)\n",
    "        loss = loss_fn(outputs, label)\n",
    "        loss.backward()\n",
    "        opt.step()\n",
    "        \n",
    "        loss_arr.append(loss.item())\n",
    "    loss_epoch_arr.append(loss.item())\n",
    "    print('Epoch: %d/%d, Test acc: %0.2f, Train acc: %0.2f'%(epoch, max_epochs, evaluation(testloader), evaluation(trainloader)))\n",
    "\n",
    "plt.plot(loss_epoch_arr)\n",
    "plt.show()"
   ]
  },
  {
   "cell_type": "code",
   "execution_count": 20,
   "id": "80eb520f-923e-4c04-acde-d324dab064d1",
   "metadata": {},
   "outputs": [],
   "source": [
    "# SELU activation function\n",
    "lenet = LeNet()\n",
    "loss_fn = nn.CrossEntropyLoss()\n",
    "opt = optim.Adam(lenet.parameters())"
   ]
  },
  {
   "cell_type": "code",
   "execution_count": 21,
   "id": "d31878cd-97e7-40e3-bad7-91e6f7d24d3d",
   "metadata": {
    "scrolled": true,
    "tags": []
   },
   "outputs": [
    {
     "name": "stderr",
     "output_type": "stream",
     "text": [
      "  6%|▋         | 1/16 [00:15<03:58, 15.87s/it]"
     ]
    },
    {
     "name": "stdout",
     "output_type": "stream",
     "text": [
      "Epoch: 0/16, Test acc: 40.09, Train acc: 40.42\n"
     ]
    },
    {
     "name": "stderr",
     "output_type": "stream",
     "text": [
      " 12%|█▎        | 2/16 [00:30<03:34, 15.29s/it]"
     ]
    },
    {
     "name": "stdout",
     "output_type": "stream",
     "text": [
      "Epoch: 1/16, Test acc: 44.47, Train acc: 44.36\n"
     ]
    },
    {
     "name": "stderr",
     "output_type": "stream",
     "text": [
      " 19%|█▉        | 3/16 [00:45<03:16, 15.11s/it]"
     ]
    },
    {
     "name": "stdout",
     "output_type": "stream",
     "text": [
      "Epoch: 2/16, Test acc: 47.09, Train acc: 46.97\n"
     ]
    },
    {
     "name": "stderr",
     "output_type": "stream",
     "text": [
      " 25%|██▌       | 4/16 [01:00<02:59, 14.99s/it]"
     ]
    },
    {
     "name": "stdout",
     "output_type": "stream",
     "text": [
      "Epoch: 3/16, Test acc: 48.44, Train acc: 49.35\n"
     ]
    },
    {
     "name": "stderr",
     "output_type": "stream",
     "text": [
      " 31%|███▏      | 5/16 [01:15<02:44, 14.95s/it]"
     ]
    },
    {
     "name": "stdout",
     "output_type": "stream",
     "text": [
      "Epoch: 4/16, Test acc: 48.90, Train acc: 50.51\n"
     ]
    },
    {
     "name": "stderr",
     "output_type": "stream",
     "text": [
      " 38%|███▊      | 6/16 [01:30<02:29, 14.95s/it]"
     ]
    },
    {
     "name": "stdout",
     "output_type": "stream",
     "text": [
      "Epoch: 5/16, Test acc: 50.69, Train acc: 51.88\n"
     ]
    },
    {
     "name": "stderr",
     "output_type": "stream",
     "text": [
      " 44%|████▍     | 7/16 [01:45<02:14, 14.91s/it]"
     ]
    },
    {
     "name": "stdout",
     "output_type": "stream",
     "text": [
      "Epoch: 6/16, Test acc: 51.14, Train acc: 51.93\n"
     ]
    },
    {
     "name": "stderr",
     "output_type": "stream",
     "text": [
      " 50%|█████     | 8/16 [01:59<01:58, 14.86s/it]"
     ]
    },
    {
     "name": "stdout",
     "output_type": "stream",
     "text": [
      "Epoch: 7/16, Test acc: 51.24, Train acc: 52.84\n"
     ]
    },
    {
     "name": "stderr",
     "output_type": "stream",
     "text": [
      " 56%|█████▋    | 9/16 [02:14<01:43, 14.79s/it]"
     ]
    },
    {
     "name": "stdout",
     "output_type": "stream",
     "text": [
      "Epoch: 8/16, Test acc: 52.41, Train acc: 54.49\n"
     ]
    },
    {
     "name": "stderr",
     "output_type": "stream",
     "text": [
      " 62%|██████▎   | 10/16 [02:29<01:28, 14.80s/it]"
     ]
    },
    {
     "name": "stdout",
     "output_type": "stream",
     "text": [
      "Epoch: 9/16, Test acc: 53.97, Train acc: 56.57\n"
     ]
    },
    {
     "name": "stderr",
     "output_type": "stream",
     "text": [
      " 69%|██████▉   | 11/16 [02:44<01:13, 14.78s/it]"
     ]
    },
    {
     "name": "stdout",
     "output_type": "stream",
     "text": [
      "Epoch: 10/16, Test acc: 53.74, Train acc: 56.38\n"
     ]
    },
    {
     "name": "stderr",
     "output_type": "stream",
     "text": [
      " 75%|███████▌  | 12/16 [02:59<00:59, 14.84s/it]"
     ]
    },
    {
     "name": "stdout",
     "output_type": "stream",
     "text": [
      "Epoch: 11/16, Test acc: 55.33, Train acc: 58.01\n"
     ]
    },
    {
     "name": "stderr",
     "output_type": "stream",
     "text": [
      " 81%|████████▏ | 13/16 [03:14<00:44, 14.88s/it]"
     ]
    },
    {
     "name": "stdout",
     "output_type": "stream",
     "text": [
      "Epoch: 12/16, Test acc: 52.32, Train acc: 55.29\n"
     ]
    },
    {
     "name": "stderr",
     "output_type": "stream",
     "text": [
      " 88%|████████▊ | 14/16 [03:28<00:29, 14.88s/it]"
     ]
    },
    {
     "name": "stdout",
     "output_type": "stream",
     "text": [
      "Epoch: 13/16, Test acc: 55.07, Train acc: 58.10\n"
     ]
    },
    {
     "name": "stderr",
     "output_type": "stream",
     "text": [
      " 94%|█████████▍| 15/16 [03:43<00:14, 14.92s/it]"
     ]
    },
    {
     "name": "stdout",
     "output_type": "stream",
     "text": [
      "Epoch: 14/16, Test acc: 53.93, Train acc: 57.68\n"
     ]
    },
    {
     "name": "stderr",
     "output_type": "stream",
     "text": [
      "100%|██████████| 16/16 [03:58<00:00, 14.93s/it]"
     ]
    },
    {
     "name": "stdout",
     "output_type": "stream",
     "text": [
      "Epoch: 15/16, Test acc: 57.14, Train acc: 61.19\n"
     ]
    },
    {
     "name": "stderr",
     "output_type": "stream",
     "text": [
      "\n"
     ]
    },
    {
     "data": {
      "image/png": "[encoded data removed]",
      "text/plain": [
       "<Figure size 432x288 with 1 Axes>"
      ]
     },
     "metadata": {
      "needs_background": "light"
     },
     "output_type": "display_data"
    },
    {
     "name": "stdout",
     "output_type": "stream",
     "text": [
      "CPU times: user 25min 30s, sys: 2.58 s, total: 25min 33s\n",
      "Wall time: 3min 58s\n"
     ]
    }
   ],
   "source": [
    "%%time\n",
    "loss_LeNetr = []\n",
    "loss_epoch_arr = []\n",
    "max_epochs = 16\n",
    "\n",
    "for epoch in tqdm(range(max_epochs)):\n",
    "    for i, data in enumerate(trainloader, 0):\n",
    "        inputs, label = data\n",
    "        \n",
    "        opt.zero_grad()\n",
    "        \n",
    "        outputs = lenet(inputs)\n",
    "        loss = loss_fn(outputs, label)\n",
    "        loss.backward()\n",
    "        opt.step()\n",
    "        \n",
    "        loss_arr.append(loss.item())\n",
    "    loss_epoch_arr.append(loss.item())\n",
    "    print('Epoch: %d/%d, Test acc: %0.2f, Train acc: %0.2f'%(epoch, max_epochs, evaluation(testloader), evaluation(trainloader)))\n",
    "\n",
    "plt.plot(loss_epoch_arr)\n",
    "plt.show()"
   ]
  },
  {
   "cell_type": "code",
   "execution_count": 22,
   "id": "55ebb684-8150-4b6f-b0eb-bf7d07b16de1",
   "metadata": {},
   "outputs": [
    {
     "name": "stdout",
     "output_type": "stream",
     "text": [
      "cuda:0\n"
     ]
    }
   ],
   "source": [
    "# Training on GPU\n",
    "device = torch.device(\"cuda:0\" if torch.cuda.is_available() else \"cpu\")\n",
    "print(device)"
   ]
  },
  {
   "cell_type": "code",
   "execution_count": 23,
   "id": "abc2fa43-9b31-4c20-80c4-6b382370abef",
   "metadata": {},
   "outputs": [],
   "source": [
    "def evaluation_gpu(dataloader):\n",
    "    total, correct = 0, 0\n",
    "    for data in dataloader:\n",
    "        inputs, labels = data\n",
    "        inputs, labels = inputs.to(device), labels.to(device)\n",
    "        outputs = lenet(inputs)\n",
    "        _, pred = torch.max(outputs.data, 1)\n",
    "        total += labels.size(0)\n",
    "        correct += (pred == labels).sum().item()\n",
    "    return 100 * correct / total\n",
    "\n",
    "def training_gpu(max_epochs = 30):\n",
    "    for epoch in tqdm(range(max_epochs)):\n",
    "        for i, data in enumerate(trainloader, 0):\n",
    "            inputs, labels = data\n",
    "            inputs, labels = inputs.to(device), labels.to(device)\n",
    "\n",
    "            opt.zero_grad()\n",
    "\n",
    "            outputs = lenet(inputs)\n",
    "            loss = loss_fn(outputs, labels)\n",
    "            loss.backward()\n",
    "            opt.step()"
   ]
  },
  {
   "cell_type": "code",
   "execution_count": 31,
   "id": "2d8d714e-afd2-4766-b8eb-a476d4feb1ef",
   "metadata": {},
   "outputs": [],
   "source": [
    "lenet = LeNet().to(device)\n",
    "loss_fn = nn.CrossEntropyLoss()\n",
    "opt = optim.Adam(lenet.parameters())"
   ]
  },
  {
   "cell_type": "code",
   "execution_count": 33,
   "id": "b43bc0b9-d70c-4b13-b2a7-1552bdc57238",
   "metadata": {
    "scrolled": true,
    "tags": []
   },
   "outputs": [
    {
     "name": "stderr",
     "output_type": "stream",
     "text": [
      "  3%|▎         | 1/30 [00:06<03:00,  6.21s/it]"
     ]
    },
    {
     "name": "stdout",
     "output_type": "stream",
     "text": [
      "Epoch: 0/30\n"
     ]
    },
    {
     "name": "stderr",
     "output_type": "stream",
     "text": [
      "  7%|▋         | 2/30 [00:12<02:54,  6.22s/it]"
     ]
    },
    {
     "name": "stdout",
     "output_type": "stream",
     "text": [
      "Epoch: 1/30\n"
     ]
    },
    {
     "name": "stderr",
     "output_type": "stream",
     "text": [
      " 10%|█         | 3/30 [00:18<02:47,  6.21s/it]"
     ]
    },
    {
     "name": "stdout",
     "output_type": "stream",
     "text": [
      "Epoch: 2/30\n"
     ]
    },
    {
     "name": "stderr",
     "output_type": "stream",
     "text": [
      " 13%|█▎        | 4/30 [00:24<02:41,  6.21s/it]"
     ]
    },
    {
     "name": "stdout",
     "output_type": "stream",
     "text": [
      "Epoch: 3/30\n"
     ]
    },
    {
     "name": "stderr",
     "output_type": "stream",
     "text": [
      " 17%|█▋        | 5/30 [00:31<02:35,  6.21s/it]"
     ]
    },
    {
     "name": "stdout",
     "output_type": "stream",
     "text": [
      "Epoch: 4/30\n"
     ]
    },
    {
     "name": "stderr",
     "output_type": "stream",
     "text": [
      " 20%|██        | 6/30 [00:37<02:27,  6.15s/it]"
     ]
    },
    {
     "name": "stdout",
     "output_type": "stream",
     "text": [
      "Epoch: 5/30\n"
     ]
    },
    {
     "name": "stderr",
     "output_type": "stream",
     "text": [
      " 23%|██▎       | 7/30 [00:43<02:20,  6.11s/it]"
     ]
    },
    {
     "name": "stdout",
     "output_type": "stream",
     "text": [
      "Epoch: 6/30\n"
     ]
    },
    {
     "name": "stderr",
     "output_type": "stream",
     "text": [
      " 27%|██▋       | 8/30 [00:49<02:13,  6.08s/it]"
     ]
    },
    {
     "name": "stdout",
     "output_type": "stream",
     "text": [
      "Epoch: 7/30\n"
     ]
    },
    {
     "name": "stderr",
     "output_type": "stream",
     "text": [
      " 30%|███       | 9/30 [00:55<02:07,  6.06s/it]"
     ]
    },
    {
     "name": "stdout",
     "output_type": "stream",
     "text": [
      "Epoch: 8/30\n"
     ]
    },
    {
     "name": "stderr",
     "output_type": "stream",
     "text": [
      " 33%|███▎      | 10/30 [01:01<02:00,  6.04s/it]"
     ]
    },
    {
     "name": "stdout",
     "output_type": "stream",
     "text": [
      "Epoch: 9/30\n"
     ]
    },
    {
     "name": "stderr",
     "output_type": "stream",
     "text": [
      " 37%|███▋      | 11/30 [01:07<01:55,  6.06s/it]"
     ]
    },
    {
     "name": "stdout",
     "output_type": "stream",
     "text": [
      "Epoch: 10/30\n"
     ]
    },
    {
     "name": "stderr",
     "output_type": "stream",
     "text": [
      " 40%|████      | 12/30 [01:13<01:49,  6.08s/it]"
     ]
    },
    {
     "name": "stdout",
     "output_type": "stream",
     "text": [
      "Epoch: 11/30\n"
     ]
    },
    {
     "name": "stderr",
     "output_type": "stream",
     "text": [
      " 43%|████▎     | 13/30 [01:19<01:43,  6.09s/it]"
     ]
    },
    {
     "name": "stdout",
     "output_type": "stream",
     "text": [
      "Epoch: 12/30\n"
     ]
    },
    {
     "name": "stderr",
     "output_type": "stream",
     "text": [
      " 47%|████▋     | 14/30 [01:25<01:37,  6.08s/it]"
     ]
    },
    {
     "name": "stdout",
     "output_type": "stream",
     "text": [
      "Epoch: 13/30\n"
     ]
    },
    {
     "name": "stderr",
     "output_type": "stream",
     "text": [
      " 50%|█████     | 15/30 [01:31<01:31,  6.09s/it]"
     ]
    },
    {
     "name": "stdout",
     "output_type": "stream",
     "text": [
      "Epoch: 14/30\n"
     ]
    },
    {
     "name": "stderr",
     "output_type": "stream",
     "text": [
      " 53%|█████▎    | 16/30 [01:37<01:25,  6.10s/it]"
     ]
    },
    {
     "name": "stdout",
     "output_type": "stream",
     "text": [
      "Epoch: 15/30\n"
     ]
    },
    {
     "name": "stderr",
     "output_type": "stream",
     "text": [
      " 57%|█████▋    | 17/30 [01:43<01:19,  6.12s/it]"
     ]
    },
    {
     "name": "stdout",
     "output_type": "stream",
     "text": [
      "Epoch: 16/30\n"
     ]
    },
    {
     "name": "stderr",
     "output_type": "stream",
     "text": [
      " 60%|██████    | 18/30 [01:50<01:13,  6.14s/it]"
     ]
    },
    {
     "name": "stdout",
     "output_type": "stream",
     "text": [
      "Epoch: 17/30\n"
     ]
    },
    {
     "name": "stderr",
     "output_type": "stream",
     "text": [
      " 63%|██████▎   | 19/30 [01:56<01:07,  6.16s/it]"
     ]
    },
    {
     "name": "stdout",
     "output_type": "stream",
     "text": [
      "Epoch: 18/30\n"
     ]
    },
    {
     "name": "stderr",
     "output_type": "stream",
     "text": [
      " 67%|██████▋   | 20/30 [02:02<01:01,  6.17s/it]"
     ]
    },
    {
     "name": "stdout",
     "output_type": "stream",
     "text": [
      "Epoch: 19/30\n"
     ]
    },
    {
     "name": "stderr",
     "output_type": "stream",
     "text": [
      " 70%|███████   | 21/30 [02:08<00:55,  6.19s/it]"
     ]
    },
    {
     "name": "stdout",
     "output_type": "stream",
     "text": [
      "Epoch: 20/30\n"
     ]
    },
    {
     "name": "stderr",
     "output_type": "stream",
     "text": [
      " 73%|███████▎  | 22/30 [02:14<00:49,  6.16s/it]"
     ]
    },
    {
     "name": "stdout",
     "output_type": "stream",
     "text": [
      "Epoch: 21/30\n"
     ]
    },
    {
     "name": "stderr",
     "output_type": "stream",
     "text": [
      " 77%|███████▋  | 23/30 [02:21<00:43,  6.17s/it]"
     ]
    },
    {
     "name": "stdout",
     "output_type": "stream",
     "text": [
      "Epoch: 22/30\n"
     ]
    },
    {
     "name": "stderr",
     "output_type": "stream",
     "text": [
      " 80%|████████  | 24/30 [02:27<00:37,  6.17s/it]"
     ]
    },
    {
     "name": "stdout",
     "output_type": "stream",
     "text": [
      "Epoch: 23/30\n"
     ]
    },
    {
     "name": "stderr",
     "output_type": "stream",
     "text": [
      " 83%|████████▎ | 25/30 [02:33<00:30,  6.17s/it]"
     ]
    },
    {
     "name": "stdout",
     "output_type": "stream",
     "text": [
      "Epoch: 24/30\n"
     ]
    },
    {
     "name": "stderr",
     "output_type": "stream",
     "text": [
      " 87%|████████▋ | 26/30 [02:39<00:24,  6.15s/it]"
     ]
    },
    {
     "name": "stdout",
     "output_type": "stream",
     "text": [
      "Epoch: 25/30\n"
     ]
    },
    {
     "name": "stderr",
     "output_type": "stream",
     "text": [
      " 90%|█████████ | 27/30 [02:45<00:18,  6.12s/it]"
     ]
    },
    {
     "name": "stdout",
     "output_type": "stream",
     "text": [
      "Epoch: 26/30\n"
     ]
    },
    {
     "name": "stderr",
     "output_type": "stream",
     "text": [
      " 93%|█████████▎| 28/30 [02:51<00:12,  6.08s/it]"
     ]
    },
    {
     "name": "stdout",
     "output_type": "stream",
     "text": [
      "Epoch: 27/30\n"
     ]
    },
    {
     "name": "stderr",
     "output_type": "stream",
     "text": [
      " 97%|█████████▋| 29/30 [02:57<00:06,  6.07s/it]"
     ]
    },
    {
     "name": "stdout",
     "output_type": "stream",
     "text": [
      "Epoch: 28/30\n"
     ]
    },
    {
     "name": "stderr",
     "output_type": "stream",
     "text": [
      "100%|██████████| 30/30 [03:03<00:00,  6.12s/it]"
     ]
    },
    {
     "name": "stdout",
     "output_type": "stream",
     "text": [
      "Epoch: 29/30\n",
      "CPU times: user 3min 9s, sys: 180 ms, total: 3min 9s\n",
      "Wall time: 3min 3s\n"
     ]
    },
    {
     "name": "stderr",
     "output_type": "stream",
     "text": [
      "\n"
     ]
    }
   ],
   "source": [
    "%%time\n",
    "max_epochs = 30\n",
    "\n",
    "for epoch in tqdm(range(max_epochs)):\n",
    "    for i, data in enumerate(trainloader, 0):\n",
    "        inputs, labels = data\n",
    "        inputs, labels = inputs.to(device), labels.to(device)\n",
    "        \n",
    "        opt.zero_grad()\n",
    "        \n",
    "        outputs = lenet(inputs)\n",
    "        loss = loss_fn(outputs, labels)\n",
    "        loss.backward()\n",
    "        opt.step()\n",
    "        \n",
    "    print('Epoch: %d/%d'%(epoch, max_epochs))"
   ]
  },
  {
   "cell_type": "code",
   "execution_count": 34,
   "id": "cfef5e88-340e-4379-a289-a037619992e0",
   "metadata": {},
   "outputs": [
    {
     "name": "stdout",
     "output_type": "stream",
     "text": [
      "Mon May 30 10:58:41 2022       \n",
      "+-----------------------------------------------------------------------------+\n",
      "| NVIDIA-SMI 470.129.06   Driver Version: 470.129.06   CUDA Version: 11.4     |\n",
      "|-------------------------------+----------------------+----------------------+\n",
      "| GPU  Name        Persistence-M| Bus-Id        Disp.A | Volatile Uncorr. ECC |\n",
      "| Fan  Temp  Perf  Pwr:Usage/Cap|         Memory-Usage | GPU-Util  Compute M. |\n",
      "|                               |                      |               MIG M. |\n",
      "|===============================+======================+======================|\n",
      "|   0  NVIDIA TITAN X ...  Off  | 00000000:03:00.0  On |                  N/A |\n",
      "| 30%   54C    P2    56W / 250W |   1032MiB / 12194MiB |      5%      Default |\n",
      "|                               |                      |                  N/A |\n",
      "+-------------------------------+----------------------+----------------------+\n",
      "                                                                               \n",
      "+-----------------------------------------------------------------------------+\n",
      "| Processes:                                                                  |\n",
      "|  GPU   GI   CI        PID   Type   Process name                  GPU Memory |\n",
      "|        ID   ID                                                   Usage      |\n",
      "|=============================================================================|\n",
      "+-----------------------------------------------------------------------------+\n"
     ]
    }
   ],
   "source": [
    "!nvidia-smi"
   ]
  },
  {
   "cell_type": "code",
   "execution_count": 29,
   "id": "da18b407-f08c-454b-a1f9-ed1f747a32e4",
   "metadata": {},
   "outputs": [
    {
     "name": "stdout",
     "output_type": "stream",
     "text": [
      "Test_accuracy: 56.65, Train_accuracy: 60.72\n"
     ]
    }
   ],
   "source": [
    "# 15 epochs and SELU activation function\n",
    "print(\"Test_accuracy: %0.2f, Train_accuracy: %0.2f\"%(evaluation_gpu(testloader), evaluation_gpu(trainloader)))"
   ]
  },
  {
   "cell_type": "code",
   "execution_count": 35,
   "id": "9492d22e-a26b-4f8d-b538-81c5ba1937ea",
   "metadata": {},
   "outputs": [
    {
     "name": "stdout",
     "output_type": "stream",
     "text": [
      "Test_accuracy: 57.44, Train_accuracy: 67.88\n"
     ]
    }
   ],
   "source": [
    "# After 30epochs and ReLu activation function\n",
    "print(\"Test_accuracy: %0.2f, Train_accuracy: %0.2f\"%(evaluation_gpu(testloader), evaluation_gpu(trainloader)))"
   ]
  },
  {
   "cell_type": "code",
   "execution_count": 41,
   "id": "d79b2d45-1111-4890-bd85-fb94644173fd",
   "metadata": {},
   "outputs": [],
   "source": [
    "# plotting cnn output\n",
    "trainloader = torch.utils.data.DataLoader(trainset, batch_size=4, shuffle=True, num_workers=6)\n",
    "dataiter = iter(trainloader)\n",
    "images, labels = dataiter.next()"
   ]
  },
  {
   "cell_type": "code",
   "execution_count": 42,
   "id": "a8d5ebbf-0c89-4cce-b2a3-341794e90402",
   "metadata": {},
   "outputs": [
    {
     "data": {
      "text/plain": [
       "<Figure size 576x288 with 0 Axes>"
      ]
     },
     "metadata": {},
     "output_type": "display_data"
    },
    {
     "data": {
      "image/png": "[encoded data removed]",
      "text/plain": [
       "<Figure size 288x288 with 1 Axes>"
      ]
     },
     "metadata": {
      "needs_background": "light"
     },
     "output_type": "display_data"
    },
    {
     "name": "stdout",
     "output_type": "stream",
     "text": [
      "truck\tcat\tbird\tbird\n"
     ]
    }
   ],
   "source": [
    "plot_img(torchvision.utils.make_grid(images))\n",
    "print(\"\\t\".join(classes[int(labels[j])] for j in range(4)))"
   ]
  },
  {
   "cell_type": "code",
   "execution_count": 83,
   "id": "88677d3c-bd49-413c-8c5e-31f2c338ec4c",
   "metadata": {},
   "outputs": [
    {
     "data": {
      "text/plain": [
       "torch.Size([4, 6, 28, 28])"
      ]
     },
     "execution_count": 83,
     "metadata": {},
     "output_type": "execute_result"
    }
   ],
   "source": [
    "lenet = LeNet()\n",
    "out = lenet.cnn[0](images) \n",
    "out.shape #[4, 6, 28, 28] : [batch_size, channels, len, width]"
   ]
  },
  {
   "cell_type": "code",
   "execution_count": 44,
   "id": "e45167c3-b8fc-4a70-9a98-d7bab3a09c30",
   "metadata": {},
   "outputs": [
    {
     "data": {
      "text/plain": [
       "<Figure size 288x288 with 0 Axes>"
      ]
     },
     "metadata": {},
     "output_type": "display_data"
    },
    {
     "data": {
      "image/png": "[encoded data removed]",
      "text/plain": [
       "<Figure size 288x288 with 1 Axes>"
      ]
     },
     "metadata": {
      "needs_background": "light"
     },
     "output_type": "display_data"
    }
   ],
   "source": [
    "image_id = 3\n",
    "plt.figure(figsize=(4,4))\n",
    "plot_img(images[image_id,])"
   ]
  },
  {
   "cell_type": "code",
   "execution_count": 81,
   "id": "57c6b777-a8f0-4933-92ed-d8c4462bf7d6",
   "metadata": {},
   "outputs": [
    {
     "data": {
      "image/png": "[encoded data removed]",
      "text/plain": [
       "<Figure size 432x432 with 6 Axes>"
      ]
     },
     "metadata": {
      "needs_background": "light"
     },
     "output_type": "display_data"
    }
   ],
   "source": [
    "plt.figure(figsize=(6,6))\n",
    "plt.subplot(321)\n",
    "for i in range(6):\n",
    "    ax1 = plt.subplot(3,2,i+1)\n",
    "    plt.imshow(out[image_id, i, :, :].detach().numpy(), cmap=\"gray\")\n",
    "plt.show()"
   ]
  },
  {
   "cell_type": "code",
   "execution_count": 84,
   "id": "66abcbe6-733f-45a0-9d72-82ba5dd0fee1",
   "metadata": {},
   "outputs": [
    {
     "data": {
      "text/plain": [
       "torch.Size([4, 16, 24, 24])"
      ]
     },
     "execution_count": 84,
     "metadata": {},
     "output_type": "execute_result"
    }
   ],
   "source": [
    "out2 = lenet.cnn[3](out) \n",
    "out2.shape #[4, 16, 24, 24] : [batch_size, channels, len, width]"
   ]
  },
  {
   "cell_type": "code",
   "execution_count": 85,
   "id": "52667ee1-8bf4-449d-b63d-ce04f593d936",
   "metadata": {},
   "outputs": [
    {
     "data": {
      "image/png": "[encoded data removed]",
      "text/plain": [
       "<Figure size 432x432 with 6 Axes>"
      ]
     },
     "metadata": {
      "needs_background": "light"
     },
     "output_type": "display_data"
    }
   ],
   "source": [
    "plt.figure(figsize=(6,6))\n",
    "plt.subplot(321)\n",
    "for i in range(6):\n",
    "    ax1 = plt.subplot(3,2,i+1)\n",
    "    plt.imshow(out[image_id, i, :, :].detach().numpy(), cmap=\"gray\")\n",
    "plt.show()"
   ]
  },
  {
   "cell_type": "code",
   "execution_count": 86,
   "id": "25e0661e-ecec-4f5b-a18d-5d07de69c220",
   "metadata": {},
   "outputs": [],
   "source": [
    "# Adding regularization: weight decay\n",
    "# It is a regularization technique(L2 norm): loss = loss + weight decay parameter * L2 norm of the weights\n",
    "#        - to aviod overfitting\n",
    "#        - to avoid exploding gradient\n",
    "lenet = LeNet().to(device)\n",
    "loss_fn = nn.CrossEntropyLoss()\n",
    "opt = optim.Adam(lenet.parameters(), weight_decay=0.5)"
   ]
  },
  {
   "cell_type": "code",
   "execution_count": 87,
   "id": "0057c8e0-4811-42e7-86c7-37aa884b5ce8",
   "metadata": {
    "scrolled": true,
    "tags": []
   },
   "outputs": [
    {
     "name": "stderr",
     "output_type": "stream",
     "text": [
      "  3%|▎         | 1/30 [00:28<13:38, 28.24s/it]"
     ]
    },
    {
     "name": "stdout",
     "output_type": "stream",
     "text": [
      "Epoch: 0/30\n"
     ]
    },
    {
     "name": "stderr",
     "output_type": "stream",
     "text": [
      "  7%|▋         | 2/30 [00:56<13:14, 28.37s/it]"
     ]
    },
    {
     "name": "stdout",
     "output_type": "stream",
     "text": [
      "Epoch: 1/30\n"
     ]
    },
    {
     "name": "stderr",
     "output_type": "stream",
     "text": [
      " 10%|█         | 3/30 [01:25<12:45, 28.37s/it]"
     ]
    },
    {
     "name": "stdout",
     "output_type": "stream",
     "text": [
      "Epoch: 2/30\n"
     ]
    },
    {
     "name": "stderr",
     "output_type": "stream",
     "text": [
      " 13%|█▎        | 4/30 [01:53<12:17, 28.38s/it]"
     ]
    },
    {
     "name": "stdout",
     "output_type": "stream",
     "text": [
      "Epoch: 3/30\n"
     ]
    },
    {
     "name": "stderr",
     "output_type": "stream",
     "text": [
      " 17%|█▋        | 5/30 [02:21<11:50, 28.42s/it]"
     ]
    },
    {
     "name": "stdout",
     "output_type": "stream",
     "text": [
      "Epoch: 4/30\n"
     ]
    },
    {
     "name": "stderr",
     "output_type": "stream",
     "text": [
      " 20%|██        | 6/30 [02:50<11:22, 28.46s/it]"
     ]
    },
    {
     "name": "stdout",
     "output_type": "stream",
     "text": [
      "Epoch: 5/30\n"
     ]
    },
    {
     "name": "stderr",
     "output_type": "stream",
     "text": [
      " 23%|██▎       | 7/30 [03:19<10:54, 28.48s/it]"
     ]
    },
    {
     "name": "stdout",
     "output_type": "stream",
     "text": [
      "Epoch: 6/30\n"
     ]
    },
    {
     "name": "stderr",
     "output_type": "stream",
     "text": [
      " 27%|██▋       | 8/30 [03:47<10:27, 28.52s/it]"
     ]
    },
    {
     "name": "stdout",
     "output_type": "stream",
     "text": [
      "Epoch: 7/30\n"
     ]
    },
    {
     "name": "stderr",
     "output_type": "stream",
     "text": [
      " 30%|███       | 9/30 [04:15<09:57, 28.47s/it]"
     ]
    },
    {
     "name": "stdout",
     "output_type": "stream",
     "text": [
      "Epoch: 8/30\n"
     ]
    },
    {
     "name": "stderr",
     "output_type": "stream",
     "text": [
      " 33%|███▎      | 10/30 [04:44<09:29, 28.47s/it]"
     ]
    },
    {
     "name": "stdout",
     "output_type": "stream",
     "text": [
      "Epoch: 9/30\n"
     ]
    },
    {
     "name": "stderr",
     "output_type": "stream",
     "text": [
      " 37%|███▋      | 11/30 [05:12<09:00, 28.45s/it]"
     ]
    },
    {
     "name": "stdout",
     "output_type": "stream",
     "text": [
      "Epoch: 10/30\n"
     ]
    },
    {
     "name": "stderr",
     "output_type": "stream",
     "text": [
      " 40%|████      | 12/30 [05:41<08:31, 28.44s/it]"
     ]
    },
    {
     "name": "stdout",
     "output_type": "stream",
     "text": [
      "Epoch: 11/30\n"
     ]
    },
    {
     "name": "stderr",
     "output_type": "stream",
     "text": [
      " 43%|████▎     | 13/30 [06:09<08:03, 28.42s/it]"
     ]
    },
    {
     "name": "stdout",
     "output_type": "stream",
     "text": [
      "Epoch: 12/30\n"
     ]
    },
    {
     "name": "stderr",
     "output_type": "stream",
     "text": [
      " 47%|████▋     | 14/30 [06:38<07:35, 28.48s/it]"
     ]
    },
    {
     "name": "stdout",
     "output_type": "stream",
     "text": [
      "Epoch: 13/30\n"
     ]
    },
    {
     "name": "stderr",
     "output_type": "stream",
     "text": [
      " 50%|█████     | 15/30 [07:06<07:06, 28.43s/it]"
     ]
    },
    {
     "name": "stdout",
     "output_type": "stream",
     "text": [
      "Epoch: 14/30\n"
     ]
    },
    {
     "name": "stderr",
     "output_type": "stream",
     "text": [
      " 53%|█████▎    | 16/30 [07:34<06:37, 28.40s/it]"
     ]
    },
    {
     "name": "stdout",
     "output_type": "stream",
     "text": [
      "Epoch: 15/30\n"
     ]
    },
    {
     "name": "stderr",
     "output_type": "stream",
     "text": [
      " 57%|█████▋    | 17/30 [08:03<06:10, 28.49s/it]"
     ]
    },
    {
     "name": "stdout",
     "output_type": "stream",
     "text": [
      "Epoch: 16/30\n"
     ]
    },
    {
     "name": "stderr",
     "output_type": "stream",
     "text": [
      " 60%|██████    | 18/30 [08:31<05:41, 28.43s/it]"
     ]
    },
    {
     "name": "stdout",
     "output_type": "stream",
     "text": [
      "Epoch: 17/30\n"
     ]
    },
    {
     "name": "stderr",
     "output_type": "stream",
     "text": [
      " 63%|██████▎   | 19/30 [09:00<05:12, 28.41s/it]"
     ]
    },
    {
     "name": "stdout",
     "output_type": "stream",
     "text": [
      "Epoch: 18/30\n"
     ]
    },
    {
     "name": "stderr",
     "output_type": "stream",
     "text": [
      " 67%|██████▋   | 20/30 [09:28<04:44, 28.43s/it]"
     ]
    },
    {
     "name": "stdout",
     "output_type": "stream",
     "text": [
      "Epoch: 19/30\n"
     ]
    },
    {
     "name": "stderr",
     "output_type": "stream",
     "text": [
      " 70%|███████   | 21/30 [09:57<04:15, 28.42s/it]"
     ]
    },
    {
     "name": "stdout",
     "output_type": "stream",
     "text": [
      "Epoch: 20/30\n"
     ]
    },
    {
     "name": "stderr",
     "output_type": "stream",
     "text": [
      " 73%|███████▎  | 22/30 [10:25<03:47, 28.38s/it]"
     ]
    },
    {
     "name": "stdout",
     "output_type": "stream",
     "text": [
      "Epoch: 21/30\n"
     ]
    },
    {
     "name": "stderr",
     "output_type": "stream",
     "text": [
      " 77%|███████▋  | 23/30 [10:53<03:18, 28.36s/it]"
     ]
    },
    {
     "name": "stdout",
     "output_type": "stream",
     "text": [
      "Epoch: 22/30\n"
     ]
    },
    {
     "name": "stderr",
     "output_type": "stream",
     "text": [
      " 80%|████████  | 24/30 [11:22<02:50, 28.41s/it]"
     ]
    },
    {
     "name": "stdout",
     "output_type": "stream",
     "text": [
      "Epoch: 23/30\n"
     ]
    },
    {
     "name": "stderr",
     "output_type": "stream",
     "text": [
      " 83%|████████▎ | 25/30 [11:50<02:21, 28.35s/it]"
     ]
    },
    {
     "name": "stdout",
     "output_type": "stream",
     "text": [
      "Epoch: 24/30\n"
     ]
    },
    {
     "name": "stderr",
     "output_type": "stream",
     "text": [
      " 87%|████████▋ | 26/30 [12:18<01:53, 28.39s/it]"
     ]
    },
    {
     "name": "stdout",
     "output_type": "stream",
     "text": [
      "Epoch: 25/30\n"
     ]
    },
    {
     "name": "stderr",
     "output_type": "stream",
     "text": [
      " 90%|█████████ | 27/30 [12:47<01:25, 28.42s/it]"
     ]
    },
    {
     "name": "stdout",
     "output_type": "stream",
     "text": [
      "Epoch: 26/30\n"
     ]
    },
    {
     "name": "stderr",
     "output_type": "stream",
     "text": [
      " 93%|█████████▎| 28/30 [13:16<00:57, 28.50s/it]"
     ]
    },
    {
     "name": "stdout",
     "output_type": "stream",
     "text": [
      "Epoch: 27/30\n"
     ]
    },
    {
     "name": "stderr",
     "output_type": "stream",
     "text": [
      " 97%|█████████▋| 29/30 [13:44<00:28, 28.47s/it]"
     ]
    },
    {
     "name": "stdout",
     "output_type": "stream",
     "text": [
      "Epoch: 28/30\n"
     ]
    },
    {
     "name": "stderr",
     "output_type": "stream",
     "text": [
      "100%|██████████| 30/30 [14:12<00:00, 28.43s/it]"
     ]
    },
    {
     "name": "stdout",
     "output_type": "stream",
     "text": [
      "Epoch: 29/30\n",
      "CPU times: user 12min 34s, sys: 56 s, total: 13min 30s\n",
      "Wall time: 14min 12s\n"
     ]
    },
    {
     "name": "stderr",
     "output_type": "stream",
     "text": [
      "\n"
     ]
    }
   ],
   "source": [
    "%%time\n",
    "max_epochs = 30\n",
    "\n",
    "for epoch in tqdm(range(max_epochs)):\n",
    "    for i, data in enumerate(trainloader, 0):\n",
    "        inputs, labels = data\n",
    "        inputs, labels = inputs.to(device), labels.to(device)\n",
    "        \n",
    "        opt.zero_grad()\n",
    "        \n",
    "        outputs = lenet(inputs)\n",
    "        loss = loss_fn(outputs, labels)\n",
    "        loss.backward()\n",
    "        opt.step()\n",
    "        \n",
    "    print('Epoch: %d/%d'%(epoch, max_epochs))"
   ]
  },
  {
   "cell_type": "code",
   "execution_count": 89,
   "id": "8e8dcc02-4b27-42c6-b3c8-6697c9a6cff6",
   "metadata": {},
   "outputs": [
    {
     "name": "stdout",
     "output_type": "stream",
     "text": [
      "Test_accuracy: 10.00, Train_accuracy: 10.00\n"
     ]
    }
   ],
   "source": [
    "# After 30epochs and ReLu activation function and weight decay=0.5\n",
    "print(\"Test_accuracy: %0.2f, Train_accuracy: %0.2f\"%(evaluation_gpu(testloader), evaluation_gpu(trainloader)))"
   ]
  },
  {
   "cell_type": "code",
   "execution_count": 91,
   "id": "80d5cd80-bff5-4771-b8cd-cf1002f26d3c",
   "metadata": {},
   "outputs": [],
   "source": [
    "lenet = LeNet().to(device)\n",
    "loss_fn = nn.CrossEntropyLoss()\n",
    "opt = optim.Adam(lenet.parameters(), weight_decay=1e-3)"
   ]
  },
  {
   "cell_type": "code",
   "execution_count": 92,
   "id": "f4aaafb2-b8fe-4c81-9ad3-03080fc5d010",
   "metadata": {
    "scrolled": true,
    "tags": []
   },
   "outputs": [
    {
     "name": "stderr",
     "output_type": "stream",
     "text": [
      "100%|██████████| 15/15 [07:06<00:00, 28.43s/it]"
     ]
    },
    {
     "name": "stdout",
     "output_type": "stream",
     "text": [
      "CPU times: user 6min 16s, sys: 28.3 s, total: 6min 45s\n",
      "Wall time: 7min 6s\n"
     ]
    },
    {
     "name": "stderr",
     "output_type": "stream",
     "text": [
      "\n"
     ]
    }
   ],
   "source": [
    "%%time\n",
    "training_gpu(max_epochs=15)"
   ]
  },
  {
   "cell_type": "code",
   "execution_count": 93,
   "id": "a408395d-9023-4d87-8572-ea0c34569bbe",
   "metadata": {},
   "outputs": [
    {
     "name": "stdout",
     "output_type": "stream",
     "text": [
      "Test_accuracy: 58.05, Train_accuracy: 61.86\n"
     ]
    }
   ],
   "source": [
    "# After 30epochs and ReLu activation function and weight decay=0.001\n",
    "print(\"Test_accuracy: %0.2f, Train_accuracy: %0.2f\"%(evaluation_gpu(testloader), evaluation_gpu(trainloader)))"
   ]
  },
  {
   "cell_type": "code",
   "execution_count": 94,
   "id": "c0ae4adb-1af9-45b2-bce5-ba27b4992490",
   "metadata": {},
   "outputs": [
    {
     "name": "stderr",
     "output_type": "stream",
     "text": [
      "100%|██████████| 15/15 [07:07<00:00, 28.52s/it]\n"
     ]
    },
    {
     "name": "stdout",
     "output_type": "stream",
     "text": [
      "Test_accuracy: 39.30, Train_accuracy: 39.54\n",
      "CPU times: user 6min 29s, sys: 30.5 s, total: 6min 59s\n",
      "Wall time: 7min 22s\n"
     ]
    }
   ],
   "source": [
    "%%time\n",
    "lenet = LeNet().to(device)\n",
    "loss_fn = nn.CrossEntropyLoss()\n",
    "opt = optim.Adam(lenet.parameters(), weight_decay=1e-2)\n",
    "\n",
    "training_gpu(max_epochs=15)\n",
    "\n",
    "# After 30epochs and ReLu activation function and weight decay=0.01\n",
    "print(\"Test_accuracy: %0.2f, Train_accuracy: %0.2f\"%(evaluation_gpu(testloader), evaluation_gpu(trainloader)))"
   ]
  },
  {
   "cell_type": "code",
   "execution_count": null,
   "id": "5f43e064-12fe-4a64-9d81-dd8820efe5de",
   "metadata": {},
   "outputs": [],
   "source": []
  },
  {
   "cell_type": "markdown",
   "id": "1d09a6fc-ea10-456b-87d9-5f39b7304d6e",
   "metadata": {
    "tags": []
   },
   "source": [
    "Outline 2\n",
    "--------------------\n",
    "1. Loading dataset: tranforming images\n",
    "2. VGG-16 model\n",
    "3. Pre-trained models/ Transfer Learning\n",
    "4. Storing intermediate models\n",
    "5. RESNET model\n",
    "6. Inception v3\n",
    "7. VisionTransformer"
   ]
  },
  {
   "cell_type": "code",
   "execution_count": 95,
   "id": "d7e73cc6-1385-46e2-8517-27d33a0277c8",
   "metadata": {},
   "outputs": [],
   "source": [
    "# using extra features of transforms, where we can use augmentation or transformation of our dataset\n",
    "transform_train = transforms.Compose([transforms.RandomResizedCrop(224), # to crop the image at random location with size 224\n",
    "                                     transforms.ToTensor(),              # convert image to tensor \n",
    "                                     transforms.Normalize((0.5,0.5,0.5),(0.5,0.5,0.5))]) # (mean of 0.5),(std_dev of 0.5) for all three channels, so most data lie b/w 0-1\n",
    "transform_test  = transforms.Compose([transforms.RandomResizedCrop(224),\n",
    "                                     transforms.ToTensor(),\n",
    "                                     transforms.Normalize((0.5,0.5,0.5),(0.5,0.5,0.5))]) "
   ]
  },
  {
   "cell_type": "code",
   "execution_count": 97,
   "id": "dd5d294b-a63a-429f-ba29-f38d1c75ed9d",
   "metadata": {},
   "outputs": [
    {
     "name": "stdout",
     "output_type": "stream",
     "text": [
      "Files already downloaded and verified\n",
      "Files already downloaded and verified\n"
     ]
    }
   ],
   "source": [
    "trainset = torchvision.datasets.CIFAR10(root=\"./data\", train=True, download=True, transform=transform_train)\n",
    "testset  = torchvision.datasets.CIFAR10(root=\"./data\", train=False, download=True, transform=transform_test)"
   ]
  },
  {
   "cell_type": "code",
   "execution_count": 105,
   "id": "b0567ac8-b545-4775-b15e-92ec44af03c3",
   "metadata": {},
   "outputs": [],
   "source": [
    "num_classes = 10\n",
    "batch_size = 4\n",
    "classes = {0:'airplane', 1:'automobile', 2:'bird', 3:'cat', 4:'deer', 5:'dog', 6:'frog', 7:'horse', 8:'ship', 9:'truck'}"
   ]
  },
  {
   "cell_type": "code",
   "execution_count": 99,
   "id": "5c7e3515-664b-4116-b3c7-8584893def2d",
   "metadata": {},
   "outputs": [
    {
     "name": "stdout",
     "output_type": "stream",
     "text": [
      "torch.Size([4, 3, 224, 224]) torch.Size([3, 224, 224])\n",
      "1\n"
     ]
    }
   ],
   "source": [
    "trainloader = torch.utils.data.DataLoader(trainset, batch_size=batch_size, shuffle=True)\n",
    "\n",
    "dataiter = iter(trainloader)\n",
    "images, label = dataiter.next()\n",
    "print(images.shape, images[1].shape)\n",
    "print(labels[1].item())"
   ]
  },
  {
   "cell_type": "code",
   "execution_count": 110,
   "id": "93d24e2e-91d2-44c3-860b-73648f802fd5",
   "metadata": {},
   "outputs": [],
   "source": [
    "# Plotting images\n",
    "def plot_images(img, title):\n",
    "    # we are converting the img to numpy and un-normalizing the image: /0.5 (multuplying by 0.5) for std_dev and adding 0.5 for mean\n",
    "    npimg = img.numpy() / 2 + 0.5  # if we don't un-normalize then images will be dark\n",
    "    plt.figure(figsize=(batch_size, 1))\n",
    "    plt.axis('off')\n",
    "    plt.imshow(np.transpose(npimg, (1, 2, 0))) # Transposing the image to dim (1,2,0): (len, wid, channel)\n",
    "    title = [classes[i] for i in title]\n",
    "    plt.title(title)\n",
    "    plt.show()\n",
    "\n",
    "def show_batch(dataloader):\n",
    "    images, labels = next(iter(dataloader))\n",
    "    img = torchvision.utils.make_grid(images)\n",
    "    plot_images(img, title=[int(x.item()) for x in labels])"
   ]
  },
  {
   "cell_type": "code",
   "execution_count": 111,
   "id": "701a0991-a770-45c0-ada4-b0751e62ebeb",
   "metadata": {},
   "outputs": [
    {
     "data": {
      "image/png": "[encoded data removed]",
      "text/plain": [
       "<Figure size 288x72 with 1 Axes>"
      ]
     },
     "metadata": {
      "needs_background": "light"
     },
     "output_type": "display_data"
    },
    {
     "data": {
      "image/png": "[encoded data removed]",
      "text/plain": [
       "<Figure size 288x72 with 1 Axes>"
      ]
     },
     "metadata": {
      "needs_background": "light"
     },
     "output_type": "display_data"
    },
    {
     "data": {
      "image/png": "[encoded data removed]",
      "text/plain": [
       "<Figure size 288x72 with 1 Axes>"
      ]
     },
     "metadata": {
      "needs_background": "light"
     },
     "output_type": "display_data"
    },
    {
     "data": {
      "image/png": "[encoded data removed]",
      "text/plain": [
       "<Figure size 288x72 with 1 Axes>"
      ]
     },
     "metadata": {
      "needs_background": "light"
     },
     "output_type": "display_data"
    }
   ],
   "source": [
    "for i in range(4):\n",
    "    show_batch(trainloader)"
   ]
  },
  {
   "cell_type": "markdown",
   "id": "52fd34f3-d33a-4f4f-9397-dd8f254dff57",
   "metadata": {},
   "source": [
    "#### VGG model"
   ]
  },
  {
   "cell_type": "markdown",
   "id": "7b69d152-9b39-422c-b6f6-009e42fb1764",
   "metadata": {},
   "source": [
    "- Using Pytorch model zoo:\n",
    "    * https://pytorch.org/vision/stable/models.html"
   ]
  },
  {
   "cell_type": "code",
   "execution_count": 113,
   "id": "2dd59ff3-5f87-46ed-800b-6e6806226226",
   "metadata": {
    "scrolled": true,
    "tags": []
   },
   "outputs": [
    {
     "name": "stdout",
     "output_type": "stream",
     "text": [
      "VGG(\n",
      "  (features): Sequential(\n",
      "    (0): Conv2d(3, 64, kernel_size=(3, 3), stride=(1, 1), padding=(1, 1))\n",
      "    (1): BatchNorm2d(64, eps=1e-05, momentum=0.1, affine=True, track_running_stats=True)\n",
      "    (2): ReLU(inplace=True)\n",
      "    (3): Conv2d(64, 64, kernel_size=(3, 3), stride=(1, 1), padding=(1, 1))\n",
      "    (4): BatchNorm2d(64, eps=1e-05, momentum=0.1, affine=True, track_running_stats=True)\n",
      "    (5): ReLU(inplace=True)\n",
      "    (6): MaxPool2d(kernel_size=2, stride=2, padding=0, dilation=1, ceil_mode=False)\n",
      "    (7): Conv2d(64, 128, kernel_size=(3, 3), stride=(1, 1), padding=(1, 1))\n",
      "    (8): BatchNorm2d(128, eps=1e-05, momentum=0.1, affine=True, track_running_stats=True)\n",
      "    (9): ReLU(inplace=True)\n",
      "    (10): Conv2d(128, 128, kernel_size=(3, 3), stride=(1, 1), padding=(1, 1))\n",
      "    (11): BatchNorm2d(128, eps=1e-05, momentum=0.1, affine=True, track_running_stats=True)\n",
      "    (12): ReLU(inplace=True)\n",
      "    (13): MaxPool2d(kernel_size=2, stride=2, padding=0, dilation=1, ceil_mode=False)\n",
      "    (14): Conv2d(128, 256, kernel_size=(3, 3), stride=(1, 1), padding=(1, 1))\n",
      "    (15): BatchNorm2d(256, eps=1e-05, momentum=0.1, affine=True, track_running_stats=True)\n",
      "    (16): ReLU(inplace=True)\n",
      "    (17): Conv2d(256, 256, kernel_size=(3, 3), stride=(1, 1), padding=(1, 1))\n",
      "    (18): BatchNorm2d(256, eps=1e-05, momentum=0.1, affine=True, track_running_stats=True)\n",
      "    (19): ReLU(inplace=True)\n",
      "    (20): Conv2d(256, 256, kernel_size=(3, 3), stride=(1, 1), padding=(1, 1))\n",
      "    (21): BatchNorm2d(256, eps=1e-05, momentum=0.1, affine=True, track_running_stats=True)\n",
      "    (22): ReLU(inplace=True)\n",
      "    (23): MaxPool2d(kernel_size=2, stride=2, padding=0, dilation=1, ceil_mode=False)\n",
      "    (24): Conv2d(256, 512, kernel_size=(3, 3), stride=(1, 1), padding=(1, 1))\n",
      "    (25): BatchNorm2d(512, eps=1e-05, momentum=0.1, affine=True, track_running_stats=True)\n",
      "    (26): ReLU(inplace=True)\n",
      "    (27): Conv2d(512, 512, kernel_size=(3, 3), stride=(1, 1), padding=(1, 1))\n",
      "    (28): BatchNorm2d(512, eps=1e-05, momentum=0.1, affine=True, track_running_stats=True)\n",
      "    (29): ReLU(inplace=True)\n",
      "    (30): Conv2d(512, 512, kernel_size=(3, 3), stride=(1, 1), padding=(1, 1))\n",
      "    (31): BatchNorm2d(512, eps=1e-05, momentum=0.1, affine=True, track_running_stats=True)\n",
      "    (32): ReLU(inplace=True)\n",
      "    (33): MaxPool2d(kernel_size=2, stride=2, padding=0, dilation=1, ceil_mode=False)\n",
      "    (34): Conv2d(512, 512, kernel_size=(3, 3), stride=(1, 1), padding=(1, 1))\n",
      "    (35): BatchNorm2d(512, eps=1e-05, momentum=0.1, affine=True, track_running_stats=True)\n",
      "    (36): ReLU(inplace=True)\n",
      "    (37): Conv2d(512, 512, kernel_size=(3, 3), stride=(1, 1), padding=(1, 1))\n",
      "    (38): BatchNorm2d(512, eps=1e-05, momentum=0.1, affine=True, track_running_stats=True)\n",
      "    (39): ReLU(inplace=True)\n",
      "    (40): Conv2d(512, 512, kernel_size=(3, 3), stride=(1, 1), padding=(1, 1))\n",
      "    (41): BatchNorm2d(512, eps=1e-05, momentum=0.1, affine=True, track_running_stats=True)\n",
      "    (42): ReLU(inplace=True)\n",
      "    (43): MaxPool2d(kernel_size=2, stride=2, padding=0, dilation=1, ceil_mode=False)\n",
      "  )\n",
      "  (avgpool): AdaptiveAvgPool2d(output_size=(7, 7))\n",
      "  (classifier): Sequential(\n",
      "    (0): Linear(in_features=25088, out_features=4096, bias=True)\n",
      "    (1): ReLU(inplace=True)\n",
      "    (2): Dropout(p=0.5, inplace=False)\n",
      "    (3): Linear(in_features=4096, out_features=4096, bias=True)\n",
      "    (4): ReLU(inplace=True)\n",
      "    (5): Dropout(p=0.5, inplace=False)\n",
      "    (6): Linear(in_features=4096, out_features=1000, bias=True)\n",
      "  )\n",
      ")\n"
     ]
    }
   ],
   "source": [
    "vgg = models.vgg16_bn() #VGG 16-layer model (configuration \"D\") with batch normalization\n",
    "print(vgg)"
   ]
  },
  {
   "cell_type": "code",
   "execution_count": 116,
   "id": "93334f0a-6d2f-4ae0-9586-434db8511b18",
   "metadata": {},
   "outputs": [
    {
     "data": {
      "text/plain": [
       "(Conv2d(3, 64, kernel_size=(3, 3), stride=(1, 1), padding=(1, 1)),\n",
       " Linear(in_features=4096, out_features=1000, bias=True))"
      ]
     },
     "execution_count": 116,
     "metadata": {},
     "output_type": "execute_result"
    }
   ],
   "source": [
    "vgg.features[0], vgg.classifier[-1] #out_features=1000, but in our case it should be 10"
   ]
  },
  {
   "cell_type": "code",
   "execution_count": 117,
   "id": "699f35bf-2e36-4a65-a895-edc497249a7d",
   "metadata": {},
   "outputs": [
    {
     "name": "stdout",
     "output_type": "stream",
     "text": [
      "[Linear(in_features=25088, out_features=4096, bias=True), ReLU(inplace=True), Dropout(p=0.5, inplace=False), Linear(in_features=4096, out_features=4096, bias=True), ReLU(inplace=True), Dropout(p=0.5, inplace=False), Linear(in_features=4096, out_features=10, bias=True)]\n"
     ]
    }
   ],
   "source": [
    "final_in_feat = vgg.classifier[-1].in_features # take the final classifier input_features\n",
    "mod_classifier = list(vgg.classifier.children())[:-1] #creating list of classifier's children except last layer\n",
    "mod_classifier.extend([nn.Linear(final_in_feat, num_classes)]) #extending the last last layer in modifier classifier with new num_classes\n",
    "print(mod_classifier)"
   ]
  },
  {
   "cell_type": "code",
   "execution_count": 118,
   "id": "b0a84e32-ab26-4e15-a294-59181dbf810e",
   "metadata": {
    "scrolled": true,
    "tags": []
   },
   "outputs": [
    {
     "name": "stdout",
     "output_type": "stream",
     "text": [
      "VGG(\n",
      "  (features): Sequential(\n",
      "    (0): Conv2d(3, 64, kernel_size=(3, 3), stride=(1, 1), padding=(1, 1))\n",
      "    (1): BatchNorm2d(64, eps=1e-05, momentum=0.1, affine=True, track_running_stats=True)\n",
      "    (2): ReLU(inplace=True)\n",
      "    (3): Conv2d(64, 64, kernel_size=(3, 3), stride=(1, 1), padding=(1, 1))\n",
      "    (4): BatchNorm2d(64, eps=1e-05, momentum=0.1, affine=True, track_running_stats=True)\n",
      "    (5): ReLU(inplace=True)\n",
      "    (6): MaxPool2d(kernel_size=2, stride=2, padding=0, dilation=1, ceil_mode=False)\n",
      "    (7): Conv2d(64, 128, kernel_size=(3, 3), stride=(1, 1), padding=(1, 1))\n",
      "    (8): BatchNorm2d(128, eps=1e-05, momentum=0.1, affine=True, track_running_stats=True)\n",
      "    (9): ReLU(inplace=True)\n",
      "    (10): Conv2d(128, 128, kernel_size=(3, 3), stride=(1, 1), padding=(1, 1))\n",
      "    (11): BatchNorm2d(128, eps=1e-05, momentum=0.1, affine=True, track_running_stats=True)\n",
      "    (12): ReLU(inplace=True)\n",
      "    (13): MaxPool2d(kernel_size=2, stride=2, padding=0, dilation=1, ceil_mode=False)\n",
      "    (14): Conv2d(128, 256, kernel_size=(3, 3), stride=(1, 1), padding=(1, 1))\n",
      "    (15): BatchNorm2d(256, eps=1e-05, momentum=0.1, affine=True, track_running_stats=True)\n",
      "    (16): ReLU(inplace=True)\n",
      "    (17): Conv2d(256, 256, kernel_size=(3, 3), stride=(1, 1), padding=(1, 1))\n",
      "    (18): BatchNorm2d(256, eps=1e-05, momentum=0.1, affine=True, track_running_stats=True)\n",
      "    (19): ReLU(inplace=True)\n",
      "    (20): Conv2d(256, 256, kernel_size=(3, 3), stride=(1, 1), padding=(1, 1))\n",
      "    (21): BatchNorm2d(256, eps=1e-05, momentum=0.1, affine=True, track_running_stats=True)\n",
      "    (22): ReLU(inplace=True)\n",
      "    (23): MaxPool2d(kernel_size=2, stride=2, padding=0, dilation=1, ceil_mode=False)\n",
      "    (24): Conv2d(256, 512, kernel_size=(3, 3), stride=(1, 1), padding=(1, 1))\n",
      "    (25): BatchNorm2d(512, eps=1e-05, momentum=0.1, affine=True, track_running_stats=True)\n",
      "    (26): ReLU(inplace=True)\n",
      "    (27): Conv2d(512, 512, kernel_size=(3, 3), stride=(1, 1), padding=(1, 1))\n",
      "    (28): BatchNorm2d(512, eps=1e-05, momentum=0.1, affine=True, track_running_stats=True)\n",
      "    (29): ReLU(inplace=True)\n",
      "    (30): Conv2d(512, 512, kernel_size=(3, 3), stride=(1, 1), padding=(1, 1))\n",
      "    (31): BatchNorm2d(512, eps=1e-05, momentum=0.1, affine=True, track_running_stats=True)\n",
      "    (32): ReLU(inplace=True)\n",
      "    (33): MaxPool2d(kernel_size=2, stride=2, padding=0, dilation=1, ceil_mode=False)\n",
      "    (34): Conv2d(512, 512, kernel_size=(3, 3), stride=(1, 1), padding=(1, 1))\n",
      "    (35): BatchNorm2d(512, eps=1e-05, momentum=0.1, affine=True, track_running_stats=True)\n",
      "    (36): ReLU(inplace=True)\n",
      "    (37): Conv2d(512, 512, kernel_size=(3, 3), stride=(1, 1), padding=(1, 1))\n",
      "    (38): BatchNorm2d(512, eps=1e-05, momentum=0.1, affine=True, track_running_stats=True)\n",
      "    (39): ReLU(inplace=True)\n",
      "    (40): Conv2d(512, 512, kernel_size=(3, 3), stride=(1, 1), padding=(1, 1))\n",
      "    (41): BatchNorm2d(512, eps=1e-05, momentum=0.1, affine=True, track_running_stats=True)\n",
      "    (42): ReLU(inplace=True)\n",
      "    (43): MaxPool2d(kernel_size=2, stride=2, padding=0, dilation=1, ceil_mode=False)\n",
      "  )\n",
      "  (avgpool): AdaptiveAvgPool2d(output_size=(7, 7))\n",
      "  (classifier): Sequential(\n",
      "    (0): Linear(in_features=25088, out_features=4096, bias=True)\n",
      "    (1): ReLU(inplace=True)\n",
      "    (2): Dropout(p=0.5, inplace=False)\n",
      "    (3): Linear(in_features=4096, out_features=4096, bias=True)\n",
      "    (4): ReLU(inplace=True)\n",
      "    (5): Dropout(p=0.5, inplace=False)\n",
      "    (6): Linear(in_features=4096, out_features=10, bias=True)\n",
      "  )\n",
      ")\n"
     ]
    }
   ],
   "source": [
    "vgg.classifier = nn.Sequential(*mod_classifier)\n",
    "print(vgg)"
   ]
  },
  {
   "cell_type": "code",
   "execution_count": 125,
   "id": "900dc3e1-7a58-4abe-aab9-8532275b31d6",
   "metadata": {},
   "outputs": [],
   "source": [
    "batch_size = 4\n",
    "\n",
    "trainloader = torch.utils.data.DataLoader(trainset, batch_size=batch_size, shuffle=True)\n",
    "testloader = torch.utils.data.DataLoader(testset, batch_size=batch_size, shuffle=False)"
   ]
  },
  {
   "cell_type": "code",
   "execution_count": 120,
   "id": "05946912-03a8-43a7-adb1-8e2a00fe5c60",
   "metadata": {},
   "outputs": [],
   "source": [
    "def evaluation_vgg(dataloader, model):\n",
    "    total, correct = 0, 0\n",
    "    for data in dataloader:\n",
    "        inputs, labels = data\n",
    "        inputs, labels = inputs.to(device), labels.to(device)\n",
    "        outputs = model(inputs)\n",
    "        _, pred = torch.max(outputs.data, 1)\n",
    "        total += labels.size(0)\n",
    "        correct += (pred == labels).sum().item()\n",
    "    return 100 * correct / total"
   ]
  },
  {
   "cell_type": "code",
   "execution_count": 121,
   "id": "3118b80a-69b3-490b-a426-c9d0dc028031",
   "metadata": {},
   "outputs": [
    {
     "name": "stdout",
     "output_type": "stream",
     "text": [
      "cuda:0\n"
     ]
    }
   ],
   "source": [
    "# Training on GPU\n",
    "device = torch.device(\"cuda:0\" if torch.cuda.is_available() else \"cpu\")\n",
    "print(device)"
   ]
  },
  {
   "cell_type": "code",
   "execution_count": 126,
   "id": "e9ab8b61-2379-419a-bdec-6421f98c232f",
   "metadata": {},
   "outputs": [],
   "source": [
    "vgg_model = vgg.to(device)\n",
    "loss_fn = nn.CrossEntropyLoss()\n",
    "opt = optim.SGD(vgg.parameters(), lr=0.05)"
   ]
  },
  {
   "cell_type": "code",
   "execution_count": 127,
   "id": "944870b8-eac9-46a6-bf13-19f2c0aead09",
   "metadata": {},
   "outputs": [],
   "source": [
    "def train_models(model):\n",
    "    loss_epoch_arr = []\n",
    "    max_epochs = 1\n",
    "\n",
    "    n_iters = np.ceil(50000/batch_size)\n",
    "\n",
    "    for epoch in tqdm(range(max_epochs)):\n",
    "        for i, data in enumerate(trainloader, 0):\n",
    "            inputs, labels = data\n",
    "            inputs, labels = inputs.to(device), labels.to(device)\n",
    "            \n",
    "            opt.zero_grad()\n",
    "            \n",
    "            outputs = model(inputs)\n",
    "            loss = loss_fn(outputs, labels)\n",
    "            loss.backward()\n",
    "            opt.step()\n",
    "            \n",
    "            del inputs, labels, outputs\n",
    "            torch.cuda.empty_cache()\n",
    "            \n",
    "            if i % 100 == 0:\n",
    "                print(\"Iteration: %d/%d, Loss: %0.2f\" % (i, n_iters, loss.item()))\n",
    "        loss_epoch_arr.append(loss.item())\n",
    "        \n",
    "        print(\"Epochs: %d/%d, Test_acc: %0.2f, Train_acc: 0.2%f\",(\n",
    "        epochs, max_epochs, evaluation_gpu(testloader, evaluation_vgg),evaluation_gpu(trainloader, evaluation_vgg)))"
   ]
  },
  {
   "cell_type": "code",
   "execution_count": 128,
   "id": "f675e7b6-1edf-41b6-b1d2-fd329ce84312",
   "metadata": {
    "scrolled": true,
    "tags": []
   },
   "outputs": [
    {
     "name": "stderr",
     "output_type": "stream",
     "text": [
      "  0%|          | 0/1 [00:00<?, ?it/s]"
     ]
    },
    {
     "name": "stdout",
     "output_type": "stream",
     "text": [
      "Iteration: 0/12500, Loss: nan\n",
      "Iteration: 100/12500, Loss: nan\n",
      "Iteration: 200/12500, Loss: nan\n",
      "Iteration: 300/12500, Loss: nan\n",
      "Iteration: 400/12500, Loss: nan\n"
     ]
    },
    {
     "name": "stderr",
     "output_type": "stream",
     "text": [
      "  0%|          | 0/1 [00:38<?, ?it/s]\n"
     ]
    },
    {
     "ename": "KeyboardInterrupt",
     "evalue": "",
     "output_type": "error",
     "traceback": [
      "\u001b[0;31m---------------------------------------------------------------------------\u001b[0m",
      "\u001b[0;31mKeyboardInterrupt\u001b[0m                         Traceback (most recent call last)",
      "\u001b[0;32m<timed eval>\u001b[0m in \u001b[0;36m<module>\u001b[0;34m\u001b[0m\n",
      "\u001b[0;32m/tmp/ipykernel_1304/1982096032.py\u001b[0m in \u001b[0;36mtrain_models\u001b[0;34m(model)\u001b[0m\n\u001b[1;32m     18\u001b[0m \u001b[0;34m\u001b[0m\u001b[0m\n\u001b[1;32m     19\u001b[0m             \u001b[0;32mdel\u001b[0m \u001b[0minputs\u001b[0m\u001b[0;34m,\u001b[0m \u001b[0mlabels\u001b[0m\u001b[0;34m,\u001b[0m \u001b[0moutputs\u001b[0m\u001b[0;34m\u001b[0m\u001b[0;34m\u001b[0m\u001b[0m\n\u001b[0;32m---> 20\u001b[0;31m             \u001b[0mtorch\u001b[0m\u001b[0;34m.\u001b[0m\u001b[0mcuda\u001b[0m\u001b[0;34m.\u001b[0m\u001b[0mempty_cache\u001b[0m\u001b[0;34m(\u001b[0m\u001b[0;34m)\u001b[0m\u001b[0;34m\u001b[0m\u001b[0;34m\u001b[0m\u001b[0m\n\u001b[0m\u001b[1;32m     21\u001b[0m \u001b[0;34m\u001b[0m\u001b[0m\n\u001b[1;32m     22\u001b[0m             \u001b[0;32mif\u001b[0m \u001b[0mi\u001b[0m \u001b[0;34m%\u001b[0m \u001b[0;36m100\u001b[0m \u001b[0;34m==\u001b[0m \u001b[0;36m0\u001b[0m\u001b[0;34m:\u001b[0m\u001b[0;34m\u001b[0m\u001b[0;34m\u001b[0m\u001b[0m\n",
      "\u001b[0;32m/opt/conda/lib/python3.8/site-packages/torch/cuda/memory.py\u001b[0m in \u001b[0;36mempty_cache\u001b[0;34m()\u001b[0m\n\u001b[1;32m    112\u001b[0m     \"\"\"\n\u001b[1;32m    113\u001b[0m     \u001b[0;32mif\u001b[0m \u001b[0mis_initialized\u001b[0m\u001b[0;34m(\u001b[0m\u001b[0;34m)\u001b[0m\u001b[0;34m:\u001b[0m\u001b[0;34m\u001b[0m\u001b[0;34m\u001b[0m\u001b[0m\n\u001b[0;32m--> 114\u001b[0;31m         \u001b[0mtorch\u001b[0m\u001b[0;34m.\u001b[0m\u001b[0m_C\u001b[0m\u001b[0;34m.\u001b[0m\u001b[0m_cuda_emptyCache\u001b[0m\u001b[0;34m(\u001b[0m\u001b[0;34m)\u001b[0m\u001b[0;34m\u001b[0m\u001b[0;34m\u001b[0m\u001b[0m\n\u001b[0m\u001b[1;32m    115\u001b[0m \u001b[0;34m\u001b[0m\u001b[0m\n\u001b[1;32m    116\u001b[0m \u001b[0;34m\u001b[0m\u001b[0m\n",
      "\u001b[0;31mKeyboardInterrupt\u001b[0m: "
     ]
    }
   ],
   "source": [
    "%%time\n",
    "train_models(vgg_model)"
   ]
  },
  {
   "cell_type": "code",
   "execution_count": null,
   "id": "fc341b7e-0216-488e-aa44-52750904511a",
   "metadata": {},
   "outputs": [],
   "source": []
  }
 ],
 "metadata": {
  "kernelspec": {
   "display_name": "Python 3 (ipykernel)",
   "language": "python",
   "name": "python3"
  },
  "language_info": {
   "codemirror_mode": {
    "name": "ipython",
    "version": 3
   },
   "file_extension": ".py",
   "mimetype": "text/x-python",
   "name": "python",
   "nbconvert_exporter": "python",
   "pygments_lexer": "ipython3",
   "version": "3.8.10"
  }
 },
 "nbformat": 4,
 "nbformat_minor": 5
}
