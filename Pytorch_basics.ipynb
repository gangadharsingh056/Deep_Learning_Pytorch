{
 "cells": [
  {
   "cell_type": "markdown",
   "metadata": {
    "id": "0UXcxcwr3tQo"
   },
   "source": [
    "# Getting started guide\n",
    "0. Quickstart\n",
    "1. Tensors\n",
    "2. Datasets and DataLoaders\n",
    "3. Transforms\n",
    "4. Build Model\n",
    "5. Automatic Differentiation\n",
    "6. Optimization Loop\n",
    "7. Save, Load and Use Model"
   ]
  },
  {
   "cell_type": "markdown",
   "metadata": {
    "id": "Gk77R6lk3zhR"
   },
   "source": [
    "## Section 0: Quickstart"
   ]
  },
  {
   "cell_type": "code",
   "execution_count": 1,
   "metadata": {
    "colab": {
     "base_uri": "https://localhost:8080/"
    },
    "id": "R4jnbzLA4p4I",
    "outputId": "3f33275c-c4de-45db-82b7-5d4503153be0",
    "scrolled": true
   },
   "outputs": [
    {
     "name": "stdout",
     "output_type": "stream",
     "text": [
      "Thu Aug  5 18:19:30 2021       \n",
      "+-----------------------------------------------------------------------------+\n",
      "| NVIDIA-SMI 460.91.03    Driver Version: 460.91.03    CUDA Version: 11.2     |\n",
      "|-------------------------------+----------------------+----------------------+\n",
      "| GPU  Name        Persistence-M| Bus-Id        Disp.A | Volatile Uncorr. ECC |\n",
      "| Fan  Temp  Perf  Pwr:Usage/Cap|         Memory-Usage | GPU-Util  Compute M. |\n",
      "|                               |                      |               MIG M. |\n",
      "|===============================+======================+======================|\n",
      "|   0  GeForce RTX 2060    Off  | 00000000:01:00.0 Off |                  N/A |\n",
      "| N/A   45C    P5     9W /  N/A |    531MiB /  5934MiB |     19%      Default |\n",
      "|                               |                      |                  N/A |\n",
      "+-------------------------------+----------------------+----------------------+\n",
      "                                                                               \n",
      "+-----------------------------------------------------------------------------+\n",
      "| Processes:                                                                  |\n",
      "|  GPU   GI   CI        PID   Type   Process name                  GPU Memory |\n",
      "|        ID   ID                                                   Usage      |\n",
      "|=============================================================================|\n",
      "+-----------------------------------------------------------------------------+\n"
     ]
    }
   ],
   "source": [
    "!nvidia-smi"
   ]
  },
  {
   "cell_type": "code",
   "execution_count": 108,
   "metadata": {},
   "outputs": [],
   "source": [
    "CUDA_LAUNCH_BLOCKING=1"
   ]
  },
  {
   "cell_type": "code",
   "execution_count": 2,
   "metadata": {
    "id": "f8Py20AP3dw7"
   },
   "outputs": [],
   "source": [
    "# The torch package contains data structures for multi-dimensional tensors and defines mathematical operations over these tensors. \n",
    "# Additionally, it provides many utilities for efficient serializing of Tensors and arbitrary types, and other useful utilities.\n",
    "import torch\n",
    "# Basic building blocks for graphs:\n",
    "# Containers, Convolution Layers, Pooling layers, Padding Layers, Non-linear Activations (weighted sum, nonlinearity), Non-linear Activations (other), \n",
    "# Normalization Layers, Recurrent Layers, Transformer Layers, Linear Layers, Dropout Layers, Sparse Layers, Distance Functions, Loss Functions, Vision Layers, \n",
    "# Shuffle Layers, DataParallel Layers (multi-GPU, distributed), Utilities, Quantized Functions, Lazy Modules Initialization\n",
    "from torch import nn\n",
    "# torch.utils.data.Dataset stores the samples and their corresponding labels, and torch.utils.data.DataLoader wraps an iterable around the Dataset to enable easy access to the samples.\n",
    "from torch.utils.data import DataLoader\n",
    "from torchvision import datasets\n",
    "# Transforms are common image transformations. They can be chained together using Compose. Most transformations accept both PIL images and tensor images, \n",
    "# although some transformations are PIL-only and some are tensor-only. The Conversion Transforms may be used to convert to and from PIL images.\n",
    "from torchvision import transforms\n",
    "from torchvision.transforms import ToTensor, Lambda, Compose\n",
    "# matplotlib.pyplot is a state-based interface to matplotlib. It provides a MATLAB-like way of plotting.\n",
    "import matplotlib.pyplot as plt"
   ]
  },
  {
   "cell_type": "code",
   "execution_count": 3,
   "metadata": {
    "id": "9-w2wK3T4nm8",
    "scrolled": true
   },
   "outputs": [
    {
     "name": "stdout",
     "output_type": "stream",
     "text": [
      "Downloading http://fashion-mnist.s3-website.eu-central-1.amazonaws.com/train-images-idx3-ubyte.gz to data/FashionMNIST/raw/train-images-idx3-ubyte.gz\n"
     ]
    },
    {
     "data": {
      "application/vnd.jupyter.widget-view+json": {
       "model_id": "f23f99a823d34eb8b35b97be214d63f4",
       "version_major": 2,
       "version_minor": 0
      },
      "text/plain": [
       "HBox(children=(HTML(value=''), FloatProgress(value=1.0, bar_style='info', layout=Layout(width='20px'), max=1.0…"
      ]
     },
     "metadata": {},
     "output_type": "display_data"
    },
    {
     "name": "stdout",
     "output_type": "stream",
     "text": [
      "Extracting data/FashionMNIST/raw/train-images-idx3-ubyte.gz to data/FashionMNIST/raw\n",
      "Downloading http://fashion-mnist.s3-website.eu-central-1.amazonaws.com/train-labels-idx1-ubyte.gz to data/FashionMNIST/raw/train-labels-idx1-ubyte.gz\n"
     ]
    },
    {
     "data": {
      "application/vnd.jupyter.widget-view+json": {
       "model_id": "e530d4f8a0b84b67a97f29bbe5484a78",
       "version_major": 2,
       "version_minor": 0
      },
      "text/plain": [
       "HBox(children=(HTML(value=''), FloatProgress(value=1.0, bar_style='info', layout=Layout(width='20px'), max=1.0…"
      ]
     },
     "metadata": {},
     "output_type": "display_data"
    },
    {
     "name": "stdout",
     "output_type": "stream",
     "text": [
      "Extracting data/FashionMNIST/raw/train-labels-idx1-ubyte.gz to data/FashionMNIST/raw\n",
      "Downloading http://fashion-mnist.s3-website.eu-central-1.amazonaws.com/t10k-images-idx3-ubyte.gz to data/FashionMNIST/raw/t10k-images-idx3-ubyte.gz\n"
     ]
    },
    {
     "data": {
      "application/vnd.jupyter.widget-view+json": {
       "model_id": "3adbb3b22ea6418b9e8a9f8270ae139e",
       "version_major": 2,
       "version_minor": 0
      },
      "text/plain": [
       "HBox(children=(HTML(value=''), FloatProgress(value=1.0, bar_style='info', layout=Layout(width='20px'), max=1.0…"
      ]
     },
     "metadata": {},
     "output_type": "display_data"
    },
    {
     "name": "stdout",
     "output_type": "stream",
     "text": [
      "Extracting data/FashionMNIST/raw/t10k-images-idx3-ubyte.gz to data/FashionMNIST/raw\n",
      "Downloading http://fashion-mnist.s3-website.eu-central-1.amazonaws.com/t10k-labels-idx1-ubyte.gz to data/FashionMNIST/raw/t10k-labels-idx1-ubyte.gz\n",
      "\n",
      "\n"
     ]
    },
    {
     "data": {
      "application/vnd.jupyter.widget-view+json": {
       "model_id": "d728f2183216424190080e557940e2a9",
       "version_major": 2,
       "version_minor": 0
      },
      "text/plain": [
       "HBox(children=(HTML(value=''), FloatProgress(value=1.0, bar_style='info', layout=Layout(width='20px'), max=1.0…"
      ]
     },
     "metadata": {},
     "output_type": "display_data"
    },
    {
     "name": "stdout",
     "output_type": "stream",
     "text": [
      "Extracting data/FashionMNIST/raw/t10k-labels-idx1-ubyte.gz to data/FashionMNIST/raw\n",
      "Processing...\n",
      "Done!\n"
     ]
    },
    {
     "name": "stderr",
     "output_type": "stream",
     "text": [
      "/opt/conda/lib/python3.8/site-packages/torchvision/datasets/mnist.py:480: UserWarning: The given NumPy array is not writeable, and PyTorch does not support non-writeable tensors. This means you can write to the underlying (supposedly non-writeable) NumPy array using the tensor. You may want to copy the array to protect its data or make it writeable before converting it to a tensor. This type of warning will be suppressed for the rest of this program. (Triggered internally at  ../torch/csrc/utils/tensor_numpy.cpp:137.)\n",
      "  return torch.from_numpy(parsed.astype(m[2], copy=False)).view(*s)\n"
     ]
    }
   ],
   "source": [
    "# trainingData = datasets.FashionMNIST(root=\"data\",train=True, download=True, transform=ToTensor())\n",
    "# testData = datasets.FashionMNIST(root=\"data\", train=False, download=True, transform=ToTensor())"
   ]
  },
  {
   "cell_type": "markdown",
   "metadata": {
    "id": "IHSeObE1_mq0"
   },
   "source": [
    "### Creating models"
   ]
  },
  {
   "cell_type": "code",
   "execution_count": 3,
   "metadata": {
    "colab": {
     "base_uri": "https://localhost:8080/"
    },
    "id": "sRwwgUKA-Bqt",
    "outputId": "3252a611-43e5-4440-dae9-051833682cf4"
   },
   "outputs": [
    {
     "name": "stdout",
     "output_type": "stream",
     "text": [
      "Using cuda device\n"
     ]
    }
   ],
   "source": [
    "device = \"cuda\" if torch.cuda.is_available() else \"cpu\"\n",
    "print(\"Using {} device\".format(device))"
   ]
  },
  {
   "cell_type": "code",
   "execution_count": 4,
   "metadata": {
    "id": "kKCIToxN_9Pd"
   },
   "outputs": [],
   "source": [
    "class NeuralNetwork(nn.Module):\n",
    "    def __init__(self):\n",
    "        super(NeuralNetwork, self).__init__()\n",
    "        self.flatten = nn.Flatten()\n",
    "        self.linear_relu_stack = nn.Sequential(\n",
    "            nn.Linear(28*28, 512),\n",
    "            nn.ReLU(),\n",
    "            nn.Linear(512, 512),\n",
    "            nn.ReLU(),\n",
    "            nn.Linear(512, 10),\n",
    "            nn.ReLU()\n",
    "        )\n",
    "\n",
    "    def forward(self, x):\n",
    "        x = self.flatten(x)\n",
    "        logits = self.linear_relu_stack(x)\n",
    "        return logits"
   ]
  },
  {
   "cell_type": "code",
   "execution_count": null,
   "metadata": {},
   "outputs": [],
   "source": [
    "# img_path = './img_data/train/cats/img0.jpg'\n",
    "# p = transforms.Compose([transforms.Scale((256,256)), transforms.ToTensor()])\n",
    "\n",
    "\n",
    "# logits = model(p)\n",
    "# pred_prob = self.Softmax(dim=1)(logits)\n",
    "# y_pred = pred_prob.argmax(1)\n",
    "# print(f\"Predicted Prob: {y_pred}\")"
   ]
  },
  {
   "cell_type": "code",
   "execution_count": 5,
   "metadata": {
    "colab": {
     "base_uri": "https://localhost:8080/"
    },
    "id": "l-809kVVBTXN",
    "outputId": "1d527312-644a-4c2d-8c3a-a4d988a5fa0a"
   },
   "outputs": [
    {
     "name": "stdout",
     "output_type": "stream",
     "text": [
      "NeuralNetwork(\n",
      "  (flatten): Flatten(start_dim=1, end_dim=-1)\n",
      "  (linear_relu_stack): Sequential(\n",
      "    (0): Linear(in_features=784, out_features=512, bias=True)\n",
      "    (1): ReLU()\n",
      "    (2): Linear(in_features=512, out_features=512, bias=True)\n",
      "    (3): ReLU()\n",
      "    (4): Linear(in_features=512, out_features=10, bias=True)\n",
      "    (5): ReLU()\n",
      "  )\n",
      ")\n"
     ]
    }
   ],
   "source": [
    "model = NeuralNetwork().to(device)\n",
    "print(model)"
   ]
  },
  {
   "cell_type": "code",
   "execution_count": null,
   "metadata": {},
   "outputs": [],
   "source": []
  },
  {
   "cell_type": "code",
   "execution_count": 6,
   "metadata": {
    "colab": {
     "base_uri": "https://localhost:8080/"
    },
    "id": "RGzXVmzWBbXJ",
    "outputId": "c8ff135b-1957-47d3-9d10-357c3e45c405",
    "scrolled": true
   },
   "outputs": [
    {
     "name": "stdout",
     "output_type": "stream",
     "text": [
      "layers: linear_relu_stack.0.weight | Size: torch.Size([8, 784]) | Values: tensor([[-0.0342,  0.0078,  0.0249,  ..., -0.0155, -0.0003,  0.0117],\n",
      "        [-0.0292,  0.0108,  0.0066,  ..., -0.0162,  0.0221, -0.0185]],\n",
      "       device='cuda:0', grad_fn=<SliceBackward>) \n",
      "\n",
      "layers: linear_relu_stack.0.bias | Size: torch.Size([8]) | Values: tensor([ 0.0173, -0.0124], device='cuda:0', grad_fn=<SliceBackward>) \n",
      "\n",
      "layers: linear_relu_stack.2.weight | Size: torch.Size([8, 8]) | Values: tensor([[-0.1755, -0.2895, -0.2151, -0.1264,  0.0454, -0.3455,  0.0975,  0.3112],\n",
      "        [-0.1144, -0.1420, -0.1105, -0.0808, -0.3201,  0.3070, -0.1679, -0.1022]],\n",
      "       device='cuda:0', grad_fn=<SliceBackward>) \n",
      "\n",
      "layers: linear_relu_stack.2.bias | Size: torch.Size([8]) | Values: tensor([-0.1712,  0.1051], device='cuda:0', grad_fn=<SliceBackward>) \n",
      "\n",
      "layers: linear_relu_stack.4.weight | Size: torch.Size([10, 8]) | Values: tensor([[ 0.0614,  0.2902, -0.0105, -0.0074, -0.1624, -0.3247,  0.3467, -0.2994],\n",
      "        [-0.1042,  0.1711, -0.2551, -0.3432,  0.2156,  0.2030, -0.3226, -0.0030]],\n",
      "       device='cuda:0', grad_fn=<SliceBackward>) \n",
      "\n",
      "layers: linear_relu_stack.4.bias | Size: torch.Size([10]) | Values: tensor([ 0.0035, -0.0110], device='cuda:0', grad_fn=<SliceBackward>) \n",
      "\n"
     ]
    }
   ],
   "source": [
    "for name, param in model.named_parameters():\n",
    "  print(f\"layers: {name} | Size: {param.size()} | Values: {param[:2]} \\n\")"
   ]
  },
  {
   "cell_type": "code",
   "execution_count": 6,
   "metadata": {},
   "outputs": [],
   "source": [
    "loss_fn = nn.CrossEntropyLoss()\n",
    "optimizer = torch.optim.SGD(model.parameters(), lr=1e-3)"
   ]
  },
  {
   "cell_type": "code",
   "execution_count": null,
   "metadata": {},
   "outputs": [],
   "source": []
  },
  {
   "cell_type": "markdown",
   "metadata": {
    "id": "A2Dc-UPcUFsP"
   },
   "source": [
    "### Read image from Custom Dataset"
   ]
  },
  {
   "cell_type": "code",
   "execution_count": 9,
   "metadata": {
    "id": "4ccIwCsEX8Sa"
   },
   "outputs": [],
   "source": [
    "# pic_URLlist = ['https://img.webmd.com/dtmcms/live/webmd/consumer_assets/site_images/article_thumbnails/other/cat_relaxing_on_patio_other/1800x1200_cat_relaxing_on_patio_other.jpg',\n",
    "#                'https://ichef.bbci.co.uk/news/976/cpsprodpb/12A9B/production/_111434467_gettyimages-1143489763.jpg',\n",
    "#                'https://images.newscientist.com/wp-content/uploads/2021/04/27105841/gettyimages-955480082_web.jpg',\n",
    "#                'https://thumbs-prod.si-cdn.com/d4e3zqOM5KUq8m0m-AFVxuqa5ZM=/800x600/filters:no_upscale():focal(554x699:555x700)/https://public-media.si-cdn.com/filer/a4/04/a404c799-7118-459a-8de4-89e4a44b124f/img_1317.jpg',\n",
    "#                'https://s3-us-west-2.amazonaws.com/uw-s3-cdn/wp-content/uploads/sites/6/2019/10/08113321/Dog-behavior-Kasper-Luijsterburg.jpg',\n",
    "#                'https://ggsc.s3.amazonaws.com/images/uploads/The_Science-Backed_Benefits_of_Being_a_Dog_Owner.jpg',\n",
    "#                'https://media-cldnry.s-nbcnews.com/image/upload/newscms/2021_18/3469748/210430-frankie-al-1227_0.jpg',\n",
    "#                'https://i.guim.co.uk/img/media/20098ae982d6b3ba4d70ede3ef9b8f79ab1205ce/0_0_969_1005/master/969.jpg?width=445&quality=45&auto=format&fit=max&dpr=2&s=5daa50fb52570701a280ccaea66177a9']"
   ]
  },
  {
   "cell_type": "code",
   "execution_count": 10,
   "metadata": {
    "id": "m5Nx1mdtXG4H"
   },
   "outputs": [
    {
     "name": "stdout",
     "output_type": "stream",
     "text": [
      "\n",
      "\n"
     ]
    }
   ],
   "source": [
    "# import requests\n",
    "# for i, pic_url in enumerate(pic_URLlist):\n",
    "#   name = 'img'+ str(i)+'.jpg'\n",
    "#   with open(name, 'wb') as handle:\n",
    "#     response = requests.get(pic_url, stream=True)\n",
    "#     if not response.ok:\n",
    "#         print(response)\n",
    "#     for block in response.iter_content(1024):\n",
    "#         if not block:\n",
    "#             break\n",
    "#         handle.write(block)"
   ]
  },
  {
   "cell_type": "code",
   "execution_count": 15,
   "metadata": {
    "colab": {
     "base_uri": "https://localhost:8080/"
    },
    "id": "NSTvwguQhABO",
    "outputId": "d12c1bc6-2734-49c5-9975-e18dee5910f7"
   },
   "outputs": [
    {
     "name": "stdout",
     "output_type": "stream",
     "text": [
      "['./img_data/train/cats/img0.jpg', './img_data/train/cats/img3.jpg', './img_data/train/cats/img1.jpg', './img_data/train/cats/img2.jpg'] \n",
      " ['./img_data/train/dogs/img4.jpg', './img_data/train/dogs/img5.jpg', './img_data/train/dogs/img7.jpg', './img_data/train/dogs/img6.jpg']\n"
     ]
    }
   ],
   "source": [
    "import os\n",
    "\n",
    "cat_img_loc = ['./img_data/train/cats/'+f for f in os.listdir('./img_data/train/cats')]\n",
    "cat_img_loc\n",
    "dog_img_loc = ['./img_data/train/dogs/'+f for f in os.listdir('./img_data/train/dogs')]\n",
    "dog_img_loc\n",
    "# for img in img_loc:\n",
    "#   p = transforms.Compose([transforms.Scale((28,28))])\n",
    "#   img = Image.open(img)\n",
    "#   print(f\"Original Size: {img.size}, Transformed Image: {p(img).size}\")\n",
    "print(cat_img_loc,'\\n',dog_img_loc)"
   ]
  },
  {
   "cell_type": "code",
   "execution_count": 2,
   "metadata": {},
   "outputs": [],
   "source": [
    "import cv2\n",
    "import numpy as np\n",
    "from PIL import Image\n",
    "from torchvision import transforms\n",
    "\n",
    "# transform = transforms.Compose([transforms.ToTensor()])\n",
    "# for img_path in ['./img_data/train/cats/img0.jpg']:\n",
    "#     img = cv2.imread(img_path)\n",
    "#     img = transform(img)\n",
    "#     img = img.numpy()*255\n",
    "#     img = img.astype('uint8')\n",
    "#     print(img)\n",
    "#     img = np.transpose(img, (1,2,0))\n",
    "#     cv2.imshow('Transformed_img', img)\n",
    "#     cv2.waitKey()"
   ]
  },
  {
   "cell_type": "code",
   "execution_count": 107,
   "metadata": {},
   "outputs": [
    {
     "ename": "TypeError",
     "evalue": "append() takes exactly one argument (2 given)",
     "output_type": "error",
     "traceback": [
      "\u001b[0;31m---------------------------------------------------------------------------\u001b[0m",
      "\u001b[0;31mTypeError\u001b[0m                                 Traceback (most recent call last)",
      "\u001b[0;32m<ipython-input-107-26f21414ecd1>\u001b[0m in \u001b[0;36m<module>\u001b[0;34m\u001b[0m\n\u001b[1;32m      1\u001b[0m \u001b[0mtrain_data\u001b[0m \u001b[0;34m=\u001b[0m \u001b[0;34m[\u001b[0m\u001b[0;34m]\u001b[0m\u001b[0;34m\u001b[0m\u001b[0;34m\u001b[0m\u001b[0m\n\u001b[1;32m      2\u001b[0m \u001b[0;32mfor\u001b[0m \u001b[0mi\u001b[0m \u001b[0;32min\u001b[0m \u001b[0mrange\u001b[0m\u001b[0;34m(\u001b[0m\u001b[0mlen\u001b[0m\u001b[0;34m(\u001b[0m\u001b[0mcat_img_loc\u001b[0m\u001b[0;34m)\u001b[0m\u001b[0;34m)\u001b[0m\u001b[0;34m:\u001b[0m\u001b[0;34m\u001b[0m\u001b[0;34m\u001b[0m\u001b[0m\n\u001b[0;32m----> 3\u001b[0;31m    \u001b[0mtrain_data\u001b[0m\u001b[0;34m.\u001b[0m\u001b[0mappend\u001b[0m\u001b[0;34m(\u001b[0m\u001b[0mcat_img_loc\u001b[0m\u001b[0;34m[\u001b[0m\u001b[0mi\u001b[0m\u001b[0;34m]\u001b[0m\u001b[0;34m,\u001b[0m \u001b[0mstr\u001b[0m\u001b[0;34m(\u001b[0m\u001b[0;36m0\u001b[0m\u001b[0;34m)\u001b[0m\u001b[0;34m)\u001b[0m\u001b[0;34m\u001b[0m\u001b[0;34m\u001b[0m\u001b[0m\n\u001b[0m\u001b[1;32m      4\u001b[0m \u001b[0;32mfor\u001b[0m \u001b[0mi\u001b[0m \u001b[0;32min\u001b[0m \u001b[0mrange\u001b[0m\u001b[0;34m(\u001b[0m\u001b[0mlen\u001b[0m\u001b[0;34m(\u001b[0m\u001b[0mdog_img_loc\u001b[0m\u001b[0;34m)\u001b[0m\u001b[0;34m)\u001b[0m\u001b[0;34m:\u001b[0m\u001b[0;34m\u001b[0m\u001b[0;34m\u001b[0m\u001b[0m\n\u001b[1;32m      5\u001b[0m     \u001b[0mtrain_data\u001b[0m\u001b[0;34m.\u001b[0m\u001b[0mappend\u001b[0m\u001b[0;34m(\u001b[0m\u001b[0mdog_img_loc\u001b[0m\u001b[0;34m[\u001b[0m\u001b[0mi\u001b[0m\u001b[0;34m]\u001b[0m\u001b[0;34m,\u001b[0m \u001b[0;36m0\u001b[0m\u001b[0;34m)\u001b[0m\u001b[0;34m\u001b[0m\u001b[0;34m\u001b[0m\u001b[0m\n",
      "\u001b[0;31mTypeError\u001b[0m: append() takes exactly one argument (2 given)"
     ]
    }
   ],
   "source": [
    "train_data = []\n",
    "for i in range(len(cat_img_loc)):\n",
    "   train_data.append(cat_img_loc[i], 0)\n",
    "for i in range(len(dog_img_loc)):\n",
    "    train_data.append(dog_img_loc[i], 0)\n",
    "print(train_data)"
   ]
  },
  {
   "cell_type": "code",
   "execution_count": 34,
   "metadata": {
    "colab": {
     "base_uri": "https://localhost:8080/",
     "height": 376
    },
    "id": "oXYDbkQ5iHC7",
    "outputId": "7d4bc0aa-a510-4070-8ad1-c48999b4b302"
   },
   "outputs": [
    {
     "name": "stderr",
     "output_type": "stream",
     "text": [
      "/opt/conda/lib/python3.8/site-packages/torchvision/transforms/transforms.py:279: UserWarning: The use of the transforms.Scale transform is deprecated, please use transforms.Resize instead.\n",
      "  warnings.warn(\"The use of the transforms.Scale transform is deprecated, \" +\n"
     ]
    }
   ],
   "source": [
    "# img_loc = ['/content/cat0.jpg','/content/cat1.jpg','/content/cat2.jpg','/content/cat3.jpg','/content/cat4.jpg']\n",
    "\n",
    "# for img in img_loc:\n",
    "transformation = transforms.Compose([\n",
    "                                      transforms.Scale((256,256)),transforms.RandomPerspective(),\n",
    "                                      transforms.ToTensor(), transforms.RandomCrop((256,256)),\n",
    "                                      transforms.Normalize(mean=[0.5, 0.5, 0.5],std=[0.5, 0.5, 0.5])\n",
    "])\n",
    "train_set = datasets.ImageFolder('./img_data/train/', transform=transformation)\n",
    "train_loader = torch.utils.data.DataLoader(train_set, batch_size=8, shuffle=True)"
   ]
  },
  {
   "cell_type": "code",
   "execution_count": 37,
   "metadata": {},
   "outputs": [
    {
     "data": {
      "text/plain": [
       "['cats', 'dogs']"
      ]
     },
     "execution_count": 37,
     "metadata": {},
     "output_type": "execute_result"
    }
   ],
   "source": [
    "train_set.classes"
   ]
  },
  {
   "cell_type": "code",
   "execution_count": 36,
   "metadata": {},
   "outputs": [
    {
     "data": {
      "text/plain": [
       "2"
      ]
     },
     "execution_count": 36,
     "metadata": {},
     "output_type": "execute_result"
    }
   ],
   "source": [
    "len(train_set.classes)"
   ]
  },
  {
   "cell_type": "code",
   "execution_count": 38,
   "metadata": {},
   "outputs": [
    {
     "name": "stdout",
     "output_type": "stream",
     "text": [
      "Shape of X [N, C, H, W]:  torch.Size([8, 3, 256, 256])\n",
      "Shape of y:  torch.Size([8]) torch.int64\n"
     ]
    }
   ],
   "source": [
    "for X, y in train_loader:\n",
    "    print(\"Shape of X [N, C, H, W]: \", X.shape)\n",
    "    print(\"Shape of y: \", y.shape, y.dtype)\n",
    "    break"
   ]
  },
  {
   "cell_type": "code",
   "execution_count": 39,
   "metadata": {
    "colab": {
     "base_uri": "https://localhost:8080/"
    },
    "id": "6SL9K-ZMiG31",
    "outputId": "d399e367-b00f-4333-f73b-655707ab88a5"
   },
   "outputs": [
    {
     "name": "stderr",
     "output_type": "stream",
     "text": [
      "Clipping input data to the valid range for imshow with RGB data ([0..1] for floats or [0..255] for integers).\n"
     ]
    },
    {
     "name": "stdout",
     "output_type": "stream",
     "text": [
      "Feature batch shape: torch.Size([8, 3, 256, 256])\n",
      "Labels batch shape: torch.Size([8])\n"
     ]
    },
    {
     "data": {
      "image/png": "[encoded data removed]",
      "text/plain": [
       "<Figure size 432x288 with 1 Axes>"
      ]
     },
     "metadata": {
      "needs_background": "light"
     },
     "output_type": "display_data"
    },
    {
     "name": "stdout",
     "output_type": "stream",
     "text": [
      "Label: 1\n"
     ]
    }
   ],
   "source": [
    "train_features, train_labels = next(iter(train_loader))\n",
    "print(f\"Feature batch shape: {train_features.size()}\")\n",
    "print(f\"Labels batch shape: {train_labels.size()}\")\n",
    "img = train_features[0].squeeze().reshape(256,256,3)\n",
    "label = train_labels[0]\n",
    "plt.imshow(img, cmap=\"gray\")\n",
    "plt.show()\n",
    "print(f\"Label: {label}\")"
   ]
  },
  {
   "cell_type": "markdown",
   "metadata": {
    "id": "2qTwXi5tT_8a"
   },
   "source": [
    "### Read Image and form Fashion Dataset"
   ]
  },
  {
   "cell_type": "code",
   "execution_count": 7,
   "metadata": {
    "id": "kliSDtCASsP7"
   },
   "outputs": [],
   "source": [
    "training_data = datasets.FashionMNIST(root=\"data\",\n",
    "                                      train=True,\n",
    "                                     download=False,\n",
    "                                     transform=ToTensor(),)"
   ]
  },
  {
   "cell_type": "code",
   "execution_count": 8,
   "metadata": {
    "id": "3W9MecBPe31l"
   },
   "outputs": [],
   "source": [
    "test_data = datasets.FashionMNIST(root=\"data\",\n",
    "                                 train=False,\n",
    "                                 download=False,\n",
    "                                 transform=ToTensor(),)"
   ]
  },
  {
   "cell_type": "code",
   "execution_count": 9,
   "metadata": {},
   "outputs": [
    {
     "name": "stdout",
     "output_type": "stream",
     "text": [
      "Shape of X [N, C, H, W]:  torch.Size([2, 1, 28, 28])\n",
      "Shape of y:  torch.Size([2]) torch.int64\n"
     ]
    }
   ],
   "source": [
    "batch_size=2\n",
    "train_dataloader = DataLoader(training_data,\n",
    "                             batch_size=batch_size)\n",
    "test_dataloader = DataLoader(test_data,\n",
    "                            batch_size=batch_size)\n",
    "for X, y in test_dataloader:\n",
    "    print(\"Shape of X [N, C, H, W]: \",X.shape)\n",
    "    print(\"Shape of y: \",y.shape, y.dtype)\n",
    "    break"
   ]
  },
  {
   "cell_type": "code",
   "execution_count": null,
   "metadata": {},
   "outputs": [],
   "source": []
  },
  {
   "cell_type": "code",
   "execution_count": null,
   "metadata": {},
   "outputs": [],
   "source": []
  },
  {
   "cell_type": "markdown",
   "metadata": {},
   "source": [
    "#### Training_FashionDataset"
   ]
  },
  {
   "cell_type": "code",
   "execution_count": 10,
   "metadata": {},
   "outputs": [],
   "source": [
    "def train(dataloader, model, loss_fn, optimizer):\n",
    "    size = len(dataloader.dataset)\n",
    "    for batch, (X, y) in enumerate(dataloader):\n",
    "        X, y = X.to(device), y.to(device)\n",
    "        pred = model(X)\n",
    "        loss = loss_fn(pred, y)\n",
    "        \n",
    "        optimizer.zero_grad()\n",
    "        loss.backward()\n",
    "        optimizer.step()\n",
    "        \n",
    "        if batch % 100 == 0:\n",
    "            loss, current = loss.item(), batch*len(X)\n",
    "            print(f\"loss:{loss:>7f} [{current:>5d}/{size:>5d}]\")"
   ]
  },
  {
   "cell_type": "code",
   "execution_count": 11,
   "metadata": {},
   "outputs": [],
   "source": [
    "def test(dataloader, model, loss_fn):\n",
    "    size = len(dataloader.dataset)\n",
    "    num_batches = len(dataloader)\n",
    "    model.eval()\n",
    "    test_loss, correct = 0, 0\n",
    "    with torch.no_grad():\n",
    "        for X, y in dataloader:\n",
    "            X, y = X.to(device), y.to(device)\n",
    "            pred = model(X)\n",
    "            test_loss += loss_fn(pred, y).item()\n",
    "            correct += (pred.argmax(1)== y).type(torch.float).sum().item()\n",
    "    test_loss /= num_batches\n",
    "    correct /= size\n",
    "    print(f\"Test Error: \\n Accuracy: {(100*correct):>0.1f}%, Avg loss: {test_loss:>8f} \\n\")"
   ]
  },
  {
   "cell_type": "code",
   "execution_count": 12,
   "metadata": {
    "scrolled": true
   },
   "outputs": [
    {
     "name": "stdout",
     "output_type": "stream",
     "text": [
      "Epochs 1\n",
      "---------------------------------------------------------------------------\n",
      "loss:2.320871 [    0/60000]\n",
      "loss:2.312968 [  200/60000]\n",
      "loss:2.291602 [  400/60000]\n",
      "loss:2.258419 [  600/60000]\n",
      "loss:2.309753 [  800/60000]\n",
      "loss:2.199321 [ 1000/60000]\n",
      "loss:2.232057 [ 1200/60000]\n",
      "loss:2.222596 [ 1400/60000]\n",
      "loss:2.165326 [ 1600/60000]\n",
      "loss:2.284157 [ 1800/60000]\n",
      "loss:2.138117 [ 2000/60000]\n",
      "loss:2.026448 [ 2200/60000]\n",
      "loss:2.212615 [ 2400/60000]\n",
      "loss:2.211860 [ 2600/60000]\n",
      "loss:1.948056 [ 2800/60000]\n",
      "loss:2.136972 [ 3000/60000]\n",
      "loss:1.917745 [ 3200/60000]\n",
      "loss:1.994576 [ 3400/60000]\n",
      "loss:2.089504 [ 3600/60000]\n",
      "loss:2.299942 [ 3800/60000]\n",
      "loss:1.948785 [ 4000/60000]\n",
      "loss:2.054342 [ 4200/60000]\n",
      "loss:2.092149 [ 4400/60000]\n",
      "loss:2.336625 [ 4600/60000]\n",
      "loss:1.969350 [ 4800/60000]\n",
      "loss:1.802980 [ 5000/60000]\n",
      "loss:1.663236 [ 5200/60000]\n",
      "loss:1.931356 [ 5400/60000]\n",
      "loss:2.662363 [ 5600/60000]\n",
      "loss:1.225430 [ 5800/60000]\n",
      "loss:1.862748 [ 6000/60000]\n",
      "loss:1.079505 [ 6200/60000]\n",
      "loss:1.773284 [ 6400/60000]\n",
      "loss:1.283239 [ 6600/60000]\n",
      "loss:1.942304 [ 6800/60000]\n",
      "loss:2.453751 [ 7000/60000]\n",
      "loss:1.952684 [ 7200/60000]\n",
      "loss:1.335696 [ 7400/60000]\n",
      "loss:1.782788 [ 7600/60000]\n",
      "loss:1.439254 [ 7800/60000]\n",
      "loss:2.525683 [ 8000/60000]\n",
      "loss:1.093027 [ 8200/60000]\n",
      "loss:1.994615 [ 8400/60000]\n",
      "loss:1.380540 [ 8600/60000]\n",
      "loss:1.335637 [ 8800/60000]\n",
      "loss:1.150371 [ 9000/60000]\n",
      "loss:2.100458 [ 9200/60000]\n",
      "loss:0.684936 [ 9400/60000]\n",
      "loss:2.385544 [ 9600/60000]\n",
      "loss:2.079322 [ 9800/60000]\n",
      "loss:1.041832 [10000/60000]\n",
      "loss:1.186228 [10200/60000]\n",
      "loss:2.278772 [10400/60000]\n",
      "loss:1.491274 [10600/60000]\n",
      "loss:0.951339 [10800/60000]\n",
      "loss:0.595480 [11000/60000]\n",
      "loss:1.075827 [11200/60000]\n",
      "loss:1.829128 [11400/60000]\n",
      "loss:1.387780 [11600/60000]\n",
      "loss:0.577107 [11800/60000]\n",
      "loss:0.882459 [12000/60000]\n",
      "loss:1.059093 [12200/60000]\n",
      "loss:0.846636 [12400/60000]\n",
      "loss:1.506389 [12600/60000]\n",
      "loss:1.744533 [12800/60000]\n",
      "loss:1.826722 [13000/60000]\n",
      "loss:2.883297 [13200/60000]\n",
      "loss:2.335876 [13400/60000]\n",
      "loss:1.321551 [13600/60000]\n",
      "loss:0.799497 [13800/60000]\n",
      "loss:1.871794 [14000/60000]\n",
      "loss:0.986074 [14200/60000]\n",
      "loss:0.856676 [14400/60000]\n",
      "loss:0.967044 [14600/60000]\n",
      "loss:2.448021 [14800/60000]\n",
      "loss:1.768530 [15000/60000]\n",
      "loss:1.498715 [15200/60000]\n",
      "loss:1.584434 [15400/60000]\n",
      "loss:2.158693 [15600/60000]\n",
      "loss:1.342525 [15800/60000]\n",
      "loss:1.492586 [16000/60000]\n",
      "loss:2.556446 [16200/60000]\n",
      "loss:0.237844 [16400/60000]\n",
      "loss:1.001274 [16600/60000]\n",
      "loss:1.669583 [16800/60000]\n",
      "loss:0.912301 [17000/60000]\n",
      "loss:1.706802 [17200/60000]\n",
      "loss:0.172361 [17400/60000]\n",
      "loss:0.592069 [17600/60000]\n",
      "loss:0.630937 [17800/60000]\n",
      "loss:1.719206 [18000/60000]\n",
      "loss:2.660103 [18200/60000]\n",
      "loss:0.464404 [18400/60000]\n",
      "loss:1.384121 [18600/60000]\n",
      "loss:0.801829 [18800/60000]\n",
      "loss:0.820039 [19000/60000]\n",
      "loss:1.021925 [19200/60000]\n",
      "loss:2.268874 [19400/60000]\n",
      "loss:0.765471 [19600/60000]\n",
      "loss:0.887086 [19800/60000]\n",
      "loss:1.337461 [20000/60000]\n",
      "loss:0.768806 [20200/60000]\n",
      "loss:1.474078 [20400/60000]\n",
      "loss:1.133004 [20600/60000]\n",
      "loss:0.866946 [20800/60000]\n",
      "loss:0.490813 [21000/60000]\n",
      "loss:0.714297 [21200/60000]\n",
      "loss:2.125096 [21400/60000]\n",
      "loss:1.534416 [21600/60000]\n",
      "loss:1.483518 [21800/60000]\n",
      "loss:0.986139 [22000/60000]\n",
      "loss:1.653960 [22200/60000]\n",
      "loss:0.220067 [22400/60000]\n",
      "loss:0.134954 [22600/60000]\n",
      "loss:1.003830 [22800/60000]\n",
      "loss:1.947321 [23000/60000]\n",
      "loss:0.644446 [23200/60000]\n",
      "loss:1.518262 [23400/60000]\n",
      "loss:0.105609 [23600/60000]\n",
      "loss:0.574147 [23800/60000]\n",
      "loss:2.717479 [24000/60000]\n",
      "loss:0.716548 [24200/60000]\n",
      "loss:0.383810 [24400/60000]\n",
      "loss:0.359517 [24600/60000]\n",
      "loss:0.120663 [24800/60000]\n",
      "loss:1.122581 [25000/60000]\n",
      "loss:0.306546 [25200/60000]\n",
      "loss:0.872585 [25400/60000]\n",
      "loss:0.832324 [25600/60000]\n",
      "loss:0.769632 [25800/60000]\n",
      "loss:1.671678 [26000/60000]\n",
      "loss:0.535905 [26200/60000]\n",
      "loss:0.824726 [26400/60000]\n",
      "loss:0.576069 [26600/60000]\n",
      "loss:0.062732 [26800/60000]\n",
      "loss:0.063686 [27000/60000]\n",
      "loss:0.799531 [27200/60000]\n",
      "loss:0.250207 [27400/60000]\n",
      "loss:1.402932 [27600/60000]\n",
      "loss:1.711119 [27800/60000]\n",
      "loss:1.089760 [28000/60000]\n",
      "loss:0.580384 [28200/60000]\n",
      "loss:0.562139 [28400/60000]\n",
      "loss:0.288644 [28600/60000]\n",
      "loss:0.077838 [28800/60000]\n",
      "loss:0.933775 [29000/60000]\n",
      "loss:0.610222 [29200/60000]\n",
      "loss:1.269608 [29400/60000]\n",
      "loss:0.747522 [29600/60000]\n",
      "loss:0.752441 [29800/60000]\n",
      "loss:0.523276 [30000/60000]\n",
      "loss:0.341357 [30200/60000]\n",
      "loss:0.006751 [30400/60000]\n",
      "loss:0.243040 [30600/60000]\n",
      "loss:0.127553 [30800/60000]\n",
      "loss:0.073666 [31000/60000]\n",
      "loss:0.180379 [31200/60000]\n",
      "loss:0.844433 [31400/60000]\n",
      "loss:0.319780 [31600/60000]\n",
      "loss:0.029418 [31800/60000]\n",
      "loss:2.318303 [32000/60000]\n",
      "loss:0.511283 [32200/60000]\n",
      "loss:0.570869 [32400/60000]\n",
      "loss:1.085762 [32600/60000]\n",
      "loss:0.555346 [32800/60000]\n",
      "loss:0.018221 [33000/60000]\n",
      "loss:1.797451 [33200/60000]\n",
      "loss:0.421816 [33400/60000]\n",
      "loss:0.207405 [33600/60000]\n",
      "loss:1.407224 [33800/60000]\n",
      "loss:0.418219 [34000/60000]\n",
      "loss:1.130207 [34200/60000]\n",
      "loss:1.203307 [34400/60000]\n",
      "loss:1.029711 [34600/60000]\n",
      "loss:0.003753 [34800/60000]\n",
      "loss:0.464883 [35000/60000]\n",
      "loss:0.717636 [35200/60000]\n",
      "loss:0.073092 [35400/60000]\n",
      "loss:0.013795 [35600/60000]\n",
      "loss:1.148677 [35800/60000]\n",
      "loss:0.546071 [36000/60000]\n",
      "loss:1.122838 [36200/60000]\n",
      "loss:3.883463 [36400/60000]\n",
      "loss:0.011701 [36600/60000]\n",
      "loss:0.626520 [36800/60000]\n",
      "loss:0.206201 [37000/60000]\n",
      "loss:2.094376 [37200/60000]\n",
      "loss:0.270554 [37400/60000]\n",
      "loss:0.842065 [37600/60000]\n",
      "loss:0.788287 [37800/60000]\n",
      "loss:0.822095 [38000/60000]\n",
      "loss:0.432120 [38200/60000]\n",
      "loss:0.159393 [38400/60000]\n",
      "loss:0.778124 [38600/60000]\n",
      "loss:0.628730 [38800/60000]\n",
      "loss:1.295685 [39000/60000]\n",
      "loss:0.178360 [39200/60000]\n",
      "loss:0.849087 [39400/60000]\n",
      "loss:0.667446 [39600/60000]\n",
      "loss:0.138554 [39800/60000]\n",
      "loss:0.311334 [40000/60000]\n",
      "loss:0.252694 [40200/60000]\n",
      "loss:0.168377 [40400/60000]\n",
      "loss:0.353891 [40600/60000]\n",
      "loss:1.341222 [40800/60000]\n",
      "loss:0.538751 [41000/60000]\n",
      "loss:0.775599 [41200/60000]\n",
      "loss:0.538273 [41400/60000]\n",
      "loss:0.217742 [41600/60000]\n",
      "loss:0.435507 [41800/60000]\n",
      "loss:0.342186 [42000/60000]\n",
      "loss:0.655995 [42200/60000]\n",
      "loss:0.130665 [42400/60000]\n",
      "loss:0.653379 [42600/60000]\n",
      "loss:0.056280 [42800/60000]\n",
      "loss:0.679914 [43000/60000]\n",
      "loss:0.386336 [43200/60000]\n",
      "loss:0.137770 [43400/60000]\n",
      "loss:0.556274 [43600/60000]\n",
      "loss:1.182606 [43800/60000]\n",
      "loss:0.070218 [44000/60000]\n",
      "loss:0.630531 [44200/60000]\n",
      "loss:0.099457 [44400/60000]\n",
      "loss:0.255299 [44600/60000]\n",
      "loss:0.003553 [44800/60000]\n",
      "loss:0.533728 [45000/60000]\n",
      "loss:1.066201 [45200/60000]\n",
      "loss:0.667277 [45400/60000]\n",
      "loss:0.297841 [45600/60000]\n",
      "loss:0.421909 [45800/60000]\n",
      "loss:0.668532 [46000/60000]\n",
      "loss:0.038746 [46200/60000]\n",
      "loss:0.731491 [46400/60000]\n",
      "loss:1.932684 [46600/60000]\n",
      "loss:0.721035 [46800/60000]\n",
      "loss:0.833905 [47000/60000]\n",
      "loss:0.159308 [47200/60000]\n",
      "loss:0.884981 [47400/60000]\n",
      "loss:0.176202 [47600/60000]\n",
      "loss:0.522446 [47800/60000]\n",
      "loss:0.306809 [48000/60000]\n",
      "loss:0.347968 [48200/60000]\n",
      "loss:0.071729 [48400/60000]\n",
      "loss:0.881959 [48600/60000]\n",
      "loss:0.642731 [48800/60000]\n",
      "loss:0.125590 [49000/60000]\n",
      "loss:0.521525 [49200/60000]\n",
      "loss:0.471011 [49400/60000]\n",
      "loss:0.046666 [49600/60000]\n",
      "loss:0.356561 [49800/60000]\n",
      "loss:0.302360 [50000/60000]\n",
      "loss:0.032304 [50200/60000]\n",
      "loss:0.061916 [50400/60000]\n",
      "loss:0.856086 [50600/60000]\n",
      "loss:0.936799 [50800/60000]\n",
      "loss:0.637863 [51000/60000]\n",
      "loss:0.052050 [51200/60000]\n",
      "loss:0.976206 [51400/60000]\n",
      "loss:3.505084 [51600/60000]\n",
      "loss:0.083303 [51800/60000]\n",
      "loss:0.015635 [52000/60000]\n",
      "loss:0.112029 [52200/60000]\n",
      "loss:0.298883 [52400/60000]\n",
      "loss:0.704722 [52600/60000]\n",
      "loss:0.375301 [52800/60000]\n",
      "loss:1.029068 [53000/60000]\n",
      "loss:0.853277 [53200/60000]\n",
      "loss:1.375347 [53400/60000]\n",
      "loss:0.655623 [53600/60000]\n",
      "loss:0.027032 [53800/60000]\n",
      "loss:0.740258 [54000/60000]\n",
      "loss:0.237772 [54200/60000]\n",
      "loss:0.399594 [54400/60000]\n",
      "loss:1.456710 [54600/60000]\n",
      "loss:4.224575 [54800/60000]\n",
      "loss:1.557450 [55000/60000]\n",
      "loss:0.083660 [55200/60000]\n",
      "loss:0.268463 [55400/60000]\n",
      "loss:0.233992 [55600/60000]\n",
      "loss:0.321890 [55800/60000]\n",
      "loss:0.147830 [56000/60000]\n",
      "loss:0.344006 [56200/60000]\n",
      "loss:0.482383 [56400/60000]\n",
      "loss:0.601018 [56600/60000]\n",
      "loss:0.010398 [56800/60000]\n",
      "loss:1.296822 [57000/60000]\n",
      "loss:0.290040 [57200/60000]\n",
      "loss:0.524206 [57400/60000]\n",
      "loss:1.057971 [57600/60000]\n",
      "loss:0.623147 [57800/60000]\n",
      "loss:0.043030 [58000/60000]\n",
      "loss:0.661585 [58200/60000]\n",
      "loss:0.458884 [58400/60000]\n",
      "loss:0.473633 [58600/60000]\n",
      "loss:0.857849 [58800/60000]\n",
      "loss:0.458482 [59000/60000]\n",
      "loss:0.986112 [59200/60000]\n",
      "loss:0.819688 [59400/60000]\n",
      "loss:0.170023 [59600/60000]\n",
      "loss:0.699473 [59800/60000]\n",
      "Test Error: \n",
      " Accuracy: 80.1%, Avg loss: 0.575551 \n",
      "\n",
      "Epochs 2\n",
      "---------------------------------------------------------------------------\n",
      "loss:0.051391 [    0/60000]\n",
      "loss:1.145269 [  200/60000]\n",
      "loss:0.281229 [  400/60000]\n",
      "loss:1.285865 [  600/60000]\n",
      "loss:0.920196 [  800/60000]\n",
      "loss:0.141686 [ 1000/60000]\n",
      "loss:0.553460 [ 1200/60000]\n",
      "loss:0.425579 [ 1400/60000]\n",
      "loss:1.939506 [ 1600/60000]\n",
      "loss:0.470593 [ 1800/60000]\n",
      "loss:0.374895 [ 2000/60000]\n",
      "loss:0.064724 [ 2200/60000]\n",
      "loss:0.736930 [ 2400/60000]\n",
      "loss:1.804627 [ 2600/60000]\n",
      "loss:0.323261 [ 2800/60000]\n",
      "loss:0.818440 [ 3000/60000]\n",
      "loss:0.262342 [ 3200/60000]\n",
      "loss:0.968536 [ 3400/60000]\n",
      "loss:0.818498 [ 3600/60000]\n",
      "loss:1.325668 [ 3800/60000]\n",
      "loss:0.042641 [ 4000/60000]\n",
      "loss:0.107005 [ 4200/60000]\n",
      "loss:0.239871 [ 4400/60000]\n",
      "loss:0.123191 [ 4600/60000]\n",
      "loss:1.024510 [ 4800/60000]\n",
      "loss:0.289527 [ 5000/60000]\n",
      "loss:0.031199 [ 5200/60000]\n",
      "loss:0.406603 [ 5400/60000]\n",
      "loss:1.376498 [ 5600/60000]\n",
      "loss:0.175751 [ 5800/60000]\n",
      "loss:0.548851 [ 6000/60000]\n",
      "loss:0.042653 [ 6200/60000]\n",
      "loss:0.504828 [ 6400/60000]\n",
      "loss:0.560452 [ 6600/60000]\n",
      "loss:0.991890 [ 6800/60000]\n",
      "loss:1.210607 [ 7000/60000]\n",
      "loss:2.878030 [ 7200/60000]\n",
      "loss:0.686167 [ 7400/60000]\n",
      "loss:1.104738 [ 7600/60000]\n",
      "loss:0.905981 [ 7800/60000]\n",
      "loss:0.171051 [ 8000/60000]\n",
      "loss:0.047249 [ 8200/60000]\n",
      "loss:0.151138 [ 8400/60000]\n",
      "loss:0.518688 [ 8600/60000]\n",
      "loss:0.059689 [ 8800/60000]\n",
      "loss:0.141219 [ 9000/60000]\n",
      "loss:2.144622 [ 9200/60000]\n",
      "loss:0.089025 [ 9400/60000]\n",
      "loss:0.347742 [ 9600/60000]\n",
      "loss:0.423061 [ 9800/60000]\n",
      "loss:0.452017 [10000/60000]\n",
      "loss:0.448523 [10200/60000]\n",
      "loss:0.590511 [10400/60000]\n",
      "loss:0.416255 [10600/60000]\n",
      "loss:0.309823 [10800/60000]\n",
      "loss:0.049109 [11000/60000]\n",
      "loss:0.087659 [11200/60000]\n",
      "loss:0.020534 [11400/60000]\n",
      "loss:0.180718 [11600/60000]\n",
      "loss:0.126271 [11800/60000]\n",
      "loss:0.306900 [12000/60000]\n",
      "loss:0.703996 [12200/60000]\n",
      "loss:0.289748 [12400/60000]\n",
      "loss:0.333343 [12600/60000]\n",
      "loss:0.092354 [12800/60000]\n",
      "loss:0.606104 [13000/60000]\n",
      "loss:1.381542 [13200/60000]\n",
      "loss:2.038734 [13400/60000]\n",
      "loss:1.263970 [13600/60000]\n",
      "loss:0.079214 [13800/60000]\n",
      "loss:0.138754 [14000/60000]\n",
      "loss:0.554911 [14200/60000]\n",
      "loss:0.363349 [14400/60000]\n",
      "loss:0.682003 [14600/60000]\n",
      "loss:1.293617 [14800/60000]\n",
      "loss:0.380714 [15000/60000]\n",
      "loss:0.024414 [15200/60000]\n",
      "loss:0.047080 [15400/60000]\n",
      "loss:0.069651 [15600/60000]\n",
      "loss:0.849865 [15800/60000]\n",
      "loss:2.213990 [16000/60000]\n",
      "loss:0.458928 [16200/60000]\n",
      "loss:0.052499 [16400/60000]\n",
      "loss:0.309800 [16600/60000]\n",
      "loss:0.570888 [16800/60000]\n",
      "loss:0.291363 [17000/60000]\n",
      "loss:0.285421 [17200/60000]\n",
      "loss:0.031161 [17400/60000]\n",
      "loss:0.251757 [17600/60000]\n",
      "loss:0.269045 [17800/60000]\n",
      "loss:1.363050 [18000/60000]\n",
      "loss:1.630486 [18200/60000]\n",
      "loss:0.024089 [18400/60000]\n",
      "loss:0.020499 [18600/60000]\n",
      "loss:0.741054 [18800/60000]\n",
      "loss:0.653765 [19000/60000]\n",
      "loss:0.827493 [19200/60000]\n",
      "loss:1.109780 [19400/60000]\n",
      "loss:0.350063 [19600/60000]\n",
      "loss:0.350461 [19800/60000]\n",
      "loss:0.077087 [20000/60000]\n",
      "loss:0.793700 [20200/60000]\n",
      "loss:1.170970 [20400/60000]\n",
      "loss:0.662769 [20600/60000]\n",
      "loss:1.455557 [20800/60000]\n",
      "loss:0.166551 [21000/60000]\n",
      "loss:0.110478 [21200/60000]\n",
      "loss:0.834733 [21400/60000]\n",
      "loss:1.505045 [21600/60000]\n",
      "loss:0.723594 [21800/60000]\n",
      "loss:0.399432 [22000/60000]\n",
      "loss:0.086395 [22200/60000]\n",
      "loss:0.087576 [22400/60000]\n",
      "loss:0.037876 [22600/60000]\n",
      "loss:0.528651 [22800/60000]\n",
      "loss:0.101045 [23000/60000]\n",
      "loss:0.220903 [23200/60000]\n",
      "loss:1.427808 [23400/60000]\n",
      "loss:0.005980 [23600/60000]\n",
      "loss:0.271678 [23800/60000]\n",
      "loss:0.428165 [24000/60000]\n",
      "loss:0.112787 [24200/60000]\n",
      "loss:0.057972 [24400/60000]\n",
      "loss:0.218786 [24600/60000]\n",
      "loss:0.020592 [24800/60000]\n",
      "loss:0.876882 [25000/60000]\n",
      "loss:0.125721 [25200/60000]\n",
      "loss:0.300302 [25400/60000]\n",
      "loss:0.477511 [25600/60000]\n",
      "loss:0.744145 [25800/60000]\n",
      "loss:1.213526 [26000/60000]\n",
      "loss:0.427932 [26200/60000]\n",
      "loss:0.444790 [26400/60000]\n",
      "loss:0.277654 [26600/60000]\n",
      "loss:0.010748 [26800/60000]\n",
      "loss:0.008028 [27000/60000]\n",
      "loss:0.572314 [27200/60000]\n",
      "loss:0.517048 [27400/60000]\n",
      "loss:1.040380 [27600/60000]\n",
      "loss:1.082133 [27800/60000]\n",
      "loss:1.067340 [28000/60000]\n",
      "loss:0.223750 [28200/60000]\n",
      "loss:0.480182 [28400/60000]\n",
      "loss:0.079844 [28600/60000]\n",
      "loss:0.006262 [28800/60000]\n",
      "loss:0.970616 [29000/60000]\n",
      "loss:0.016435 [29200/60000]\n",
      "loss:0.270519 [29400/60000]\n",
      "loss:0.515421 [29600/60000]\n",
      "loss:0.521284 [29800/60000]\n",
      "loss:0.444933 [30000/60000]\n",
      "loss:0.811229 [30200/60000]\n",
      "loss:0.000268 [30400/60000]\n",
      "loss:0.072145 [30600/60000]\n",
      "loss:0.026065 [30800/60000]\n",
      "loss:0.014628 [31000/60000]\n",
      "loss:0.076570 [31200/60000]\n",
      "loss:0.460068 [31400/60000]\n",
      "loss:0.391758 [31600/60000]\n",
      "loss:0.001732 [31800/60000]\n",
      "loss:1.459958 [32000/60000]\n",
      "loss:0.619394 [32200/60000]\n",
      "loss:0.155062 [32400/60000]\n",
      "loss:0.733174 [32600/60000]\n",
      "loss:0.473533 [32800/60000]\n",
      "loss:0.009129 [33000/60000]\n",
      "loss:1.928890 [33200/60000]\n",
      "loss:0.130148 [33400/60000]\n",
      "loss:0.160604 [33600/60000]\n",
      "loss:1.392392 [33800/60000]\n",
      "loss:0.109668 [34000/60000]\n",
      "loss:1.277628 [34200/60000]\n",
      "loss:0.997448 [34400/60000]\n",
      "loss:0.596730 [34600/60000]\n",
      "loss:0.000285 [34800/60000]\n",
      "loss:0.203613 [35000/60000]\n",
      "loss:0.589943 [35200/60000]\n",
      "loss:0.024425 [35400/60000]\n",
      "loss:0.000509 [35600/60000]\n",
      "loss:1.169521 [35800/60000]\n",
      "loss:0.540559 [36000/60000]\n",
      "loss:1.420748 [36200/60000]\n",
      "loss:2.091572 [36400/60000]\n",
      "loss:0.002146 [36600/60000]\n",
      "loss:0.277573 [36800/60000]\n",
      "loss:0.096497 [37000/60000]\n",
      "loss:1.386588 [37200/60000]\n",
      "loss:0.139126 [37400/60000]\n",
      "loss:0.694591 [37600/60000]\n",
      "loss:0.444871 [37800/60000]\n",
      "loss:0.230554 [38000/60000]\n",
      "loss:0.262589 [38200/60000]\n",
      "loss:0.011088 [38400/60000]\n",
      "loss:0.880003 [38600/60000]\n",
      "loss:0.346009 [38800/60000]\n",
      "loss:0.403460 [39000/60000]\n",
      "loss:0.083059 [39200/60000]\n",
      "loss:1.053405 [39400/60000]\n",
      "loss:0.741853 [39600/60000]\n",
      "loss:0.051412 [39800/60000]\n",
      "loss:0.283964 [40000/60000]\n",
      "loss:0.124862 [40200/60000]\n",
      "loss:0.144825 [40400/60000]\n",
      "loss:0.094049 [40600/60000]\n",
      "loss:1.636234 [40800/60000]\n",
      "loss:0.240957 [41000/60000]\n",
      "loss:0.278198 [41200/60000]\n",
      "loss:0.303358 [41400/60000]\n",
      "loss:0.173971 [41600/60000]\n",
      "loss:0.380414 [41800/60000]\n",
      "loss:0.176233 [42000/60000]\n",
      "loss:0.510767 [42200/60000]\n",
      "loss:0.047358 [42400/60000]\n",
      "loss:0.695784 [42600/60000]\n",
      "loss:0.017449 [42800/60000]\n",
      "loss:0.469324 [43000/60000]\n",
      "loss:0.066151 [43200/60000]\n",
      "loss:0.010096 [43400/60000]\n",
      "loss:0.304591 [43600/60000]\n",
      "loss:0.826928 [43800/60000]\n",
      "loss:0.007972 [44000/60000]\n",
      "loss:0.579580 [44200/60000]\n",
      "loss:0.012452 [44400/60000]\n",
      "loss:0.177199 [44600/60000]\n",
      "loss:0.000924 [44800/60000]\n",
      "loss:0.355553 [45000/60000]\n",
      "loss:0.534435 [45200/60000]\n",
      "loss:0.300136 [45400/60000]\n",
      "loss:0.030561 [45600/60000]\n",
      "loss:0.484496 [45800/60000]\n",
      "loss:0.336478 [46000/60000]\n",
      "loss:0.012955 [46200/60000]\n",
      "loss:0.497725 [46400/60000]\n",
      "loss:1.663447 [46600/60000]\n",
      "loss:0.370810 [46800/60000]\n",
      "loss:0.422308 [47000/60000]\n",
      "loss:0.185747 [47200/60000]\n",
      "loss:0.601634 [47400/60000]\n",
      "loss:0.119727 [47600/60000]\n",
      "loss:0.332506 [47800/60000]\n",
      "loss:0.094831 [48000/60000]\n",
      "loss:0.100519 [48200/60000]\n",
      "loss:0.042588 [48400/60000]\n",
      "loss:1.096275 [48600/60000]\n",
      "loss:0.346422 [48800/60000]\n",
      "loss:0.033280 [49000/60000]\n",
      "loss:0.453848 [49200/60000]\n",
      "loss:0.103912 [49400/60000]\n",
      "loss:0.016931 [49600/60000]\n",
      "loss:0.149335 [49800/60000]\n",
      "loss:0.199302 [50000/60000]\n",
      "loss:0.027972 [50200/60000]\n",
      "loss:0.016701 [50400/60000]\n",
      "loss:0.490759 [50600/60000]\n",
      "loss:1.038830 [50800/60000]\n",
      "loss:0.310863 [51000/60000]\n",
      "loss:0.015553 [51200/60000]\n",
      "loss:0.770466 [51400/60000]\n",
      "loss:3.683238 [51600/60000]\n",
      "loss:0.055144 [51800/60000]\n",
      "loss:0.004597 [52000/60000]\n",
      "loss:0.079392 [52200/60000]\n",
      "loss:0.252911 [52400/60000]\n",
      "loss:0.529835 [52600/60000]\n",
      "loss:0.407805 [52800/60000]\n",
      "loss:0.863919 [53000/60000]\n",
      "loss:0.594739 [53200/60000]\n",
      "loss:1.220175 [53400/60000]\n",
      "loss:0.519352 [53600/60000]\n",
      "loss:0.018700 [53800/60000]\n",
      "loss:0.645636 [54000/60000]\n",
      "loss:0.335768 [54200/60000]\n",
      "loss:0.187265 [54400/60000]\n",
      "loss:1.015061 [54600/60000]\n",
      "loss:4.161148 [54800/60000]\n",
      "loss:1.693182 [55000/60000]\n",
      "loss:0.024676 [55200/60000]\n",
      "loss:0.238926 [55400/60000]\n",
      "loss:0.111073 [55600/60000]\n",
      "loss:0.202267 [55800/60000]\n",
      "loss:0.057617 [56000/60000]\n",
      "loss:0.274395 [56200/60000]\n",
      "loss:0.337799 [56400/60000]\n",
      "loss:0.499284 [56600/60000]\n",
      "loss:0.001160 [56800/60000]\n",
      "loss:0.957757 [57000/60000]\n",
      "loss:0.205864 [57200/60000]\n",
      "loss:0.481293 [57400/60000]\n",
      "loss:0.676164 [57600/60000]\n",
      "loss:0.674123 [57800/60000]\n",
      "loss:0.012587 [58000/60000]\n",
      "loss:0.548836 [58200/60000]\n",
      "loss:0.231236 [58400/60000]\n",
      "loss:0.169154 [58600/60000]\n",
      "loss:0.700610 [58800/60000]\n",
      "loss:0.111836 [59000/60000]\n",
      "loss:1.019242 [59200/60000]\n",
      "loss:0.635969 [59400/60000]\n",
      "loss:0.161698 [59600/60000]\n",
      "loss:0.388491 [59800/60000]\n",
      "Test Error: \n",
      " Accuracy: 82.6%, Avg loss: 0.490930 \n",
      "\n"
     ]
    }
   ],
   "source": [
    "epochs = 2\n",
    "for t in range(epochs):\n",
    "    print(f\"Epochs {t+1}\\n---------------------------------------------------------------------------\")\n",
    "    train(train_dataloader, model, loss_fn, optimizer)\n",
    "    test(test_dataloader, model, loss_fn)"
   ]
  },
  {
   "cell_type": "code",
   "execution_count": 14,
   "metadata": {},
   "outputs": [
    {
     "name": "stdout",
     "output_type": "stream",
     "text": [
      "Saved Pytorch Model State to ./model\n"
     ]
    }
   ],
   "source": [
    "torch.save(model.state_dict(),\"./model/model.pth\")\n",
    "print(\"Saved Pytorch Model State to ./model\")"
   ]
  },
  {
   "cell_type": "code",
   "execution_count": 15,
   "metadata": {},
   "outputs": [
    {
     "data": {
      "text/plain": [
       "<All keys matched successfully>"
      ]
     },
     "execution_count": 15,
     "metadata": {},
     "output_type": "execute_result"
    }
   ],
   "source": [
    "load_model = NeuralNetwork()\n",
    "load_model.load_state_dict(torch.load(\"./model/model.pth\"))"
   ]
  },
  {
   "cell_type": "code",
   "execution_count": 16,
   "metadata": {},
   "outputs": [
    {
     "name": "stdout",
     "output_type": "stream",
     "text": [
      "Predicted: \"Ankle boot\", Actual: \"Ankle boot\"\n"
     ]
    }
   ],
   "source": [
    "classes = [\"T-shirt/top\",\n",
    "    \"Trouser\",\n",
    "    \"Pullover\",\n",
    "    \"Dress\",\n",
    "    \"Coat\",\n",
    "    \"Sandal\",\n",
    "    \"Shirt\",\n",
    "    \"Sneaker\",\n",
    "    \"Bag\",\n",
    "    \"Ankle boot\",]\n",
    "\n",
    "load_model.eval()\n",
    "x, y = test_data[0][0], test_data[0][1]\n",
    "with torch.no_grad():\n",
    "    pred = load_model(x)\n",
    "    predicted, actual = classes[pred[0].argmax()], classes[y]\n",
    "    print(f'Predicted: \"{predicted}\", Actual: \"{actual}\"')"
   ]
  },
  {
   "cell_type": "code",
   "execution_count": null,
   "metadata": {},
   "outputs": [],
   "source": []
  },
  {
   "cell_type": "markdown",
   "metadata": {},
   "source": [
    "### Training_custom_data"
   ]
  },
  {
   "cell_type": "code",
   "execution_count": 40,
   "metadata": {},
   "outputs": [],
   "source": [
    "def train(dataloader, model, loss_fn, optimizer):\n",
    "    size = len(dataloader.dataset)\n",
    "    for batch, (X, y) in enumerate(dataloader):\n",
    "        X, y = X.to(device), y.to(device)\n",
    "        pred = model(X)\n",
    "        loss = loss_fn(pred, y)\n",
    "        optimizer.zero_grad()\n",
    "        loss.backward()\n",
    "        optimizer.step()\n",
    "        \n",
    "        optimizer.zero_grad()\n",
    "        loss.backward()\n",
    "        optimizer.step()\n",
    "        \n",
    "        if batch %100 == 0:\n",
    "            loss, current = loss.item(), batch* len(X)\n",
    "            print(f\"loss: {loss:>7f} [{current:>5d}/{size:>5d}]\")"
   ]
  },
  {
   "cell_type": "code",
   "execution_count": 42,
   "metadata": {},
   "outputs": [],
   "source": [
    "CUDA_LAUNCH_BLOCKING=1"
   ]
  },
  {
   "cell_type": "code",
   "execution_count": 43,
   "metadata": {
    "scrolled": true
   },
   "outputs": [
    {
     "name": "stdout",
     "output_type": "stream",
     "text": [
      "Epoch 1\n",
      "---------------------------------------------------------------------------\n"
     ]
    },
    {
     "ename": "RuntimeError",
     "evalue": "CUDA error: device-side assert triggered",
     "output_type": "error",
     "traceback": [
      "\u001b[0;31m---------------------------------------------------------------------------\u001b[0m",
      "\u001b[0;31mRuntimeError\u001b[0m                              Traceback (most recent call last)",
      "\u001b[0;32m<ipython-input-43-2ad084ba3d4e>\u001b[0m in \u001b[0;36m<module>\u001b[0;34m\u001b[0m\n\u001b[1;32m      3\u001b[0m \u001b[0;32mfor\u001b[0m \u001b[0mt\u001b[0m \u001b[0;32min\u001b[0m \u001b[0mrange\u001b[0m\u001b[0;34m(\u001b[0m\u001b[0mepochs\u001b[0m\u001b[0;34m)\u001b[0m\u001b[0;34m:\u001b[0m\u001b[0;34m\u001b[0m\u001b[0;34m\u001b[0m\u001b[0m\n\u001b[1;32m      4\u001b[0m     \u001b[0mprint\u001b[0m\u001b[0;34m(\u001b[0m\u001b[0;34mf\"Epoch {t+1}\\n---------------------------------------------------------------------------\"\u001b[0m\u001b[0;34m)\u001b[0m\u001b[0;34m\u001b[0m\u001b[0;34m\u001b[0m\u001b[0m\n\u001b[0;32m----> 5\u001b[0;31m     \u001b[0mtrain\u001b[0m\u001b[0;34m(\u001b[0m\u001b[0mtrain_loader\u001b[0m\u001b[0;34m,\u001b[0m \u001b[0mmodel\u001b[0m\u001b[0;34m,\u001b[0m \u001b[0mloss_fn\u001b[0m\u001b[0;34m,\u001b[0m \u001b[0moptimizer\u001b[0m\u001b[0;34m)\u001b[0m\u001b[0;34m\u001b[0m\u001b[0;34m\u001b[0m\u001b[0m\n\u001b[0m\u001b[1;32m      6\u001b[0m \u001b[0mprint\u001b[0m\u001b[0;34m(\u001b[0m\u001b[0;34m\"Training Completed\"\u001b[0m\u001b[0;34m)\u001b[0m\u001b[0;34m\u001b[0m\u001b[0;34m\u001b[0m\u001b[0m\n",
      "\u001b[0;32m<ipython-input-40-a70bb7785354>\u001b[0m in \u001b[0;36mtrain\u001b[0;34m(dataloader, model, loss_fn, optimizer)\u001b[0m\n\u001b[1;32m      2\u001b[0m     \u001b[0msize\u001b[0m \u001b[0;34m=\u001b[0m \u001b[0mlen\u001b[0m\u001b[0;34m(\u001b[0m\u001b[0mdataloader\u001b[0m\u001b[0;34m.\u001b[0m\u001b[0mdataset\u001b[0m\u001b[0;34m)\u001b[0m\u001b[0;34m\u001b[0m\u001b[0;34m\u001b[0m\u001b[0m\n\u001b[1;32m      3\u001b[0m     \u001b[0;32mfor\u001b[0m \u001b[0mbatch\u001b[0m\u001b[0;34m,\u001b[0m \u001b[0;34m(\u001b[0m\u001b[0mX\u001b[0m\u001b[0;34m,\u001b[0m \u001b[0my\u001b[0m\u001b[0;34m)\u001b[0m \u001b[0;32min\u001b[0m \u001b[0menumerate\u001b[0m\u001b[0;34m(\u001b[0m\u001b[0mdataloader\u001b[0m\u001b[0;34m)\u001b[0m\u001b[0;34m:\u001b[0m\u001b[0;34m\u001b[0m\u001b[0;34m\u001b[0m\u001b[0m\n\u001b[0;32m----> 4\u001b[0;31m         \u001b[0mX\u001b[0m\u001b[0;34m,\u001b[0m \u001b[0my\u001b[0m \u001b[0;34m=\u001b[0m \u001b[0mX\u001b[0m\u001b[0;34m.\u001b[0m\u001b[0mto\u001b[0m\u001b[0;34m(\u001b[0m\u001b[0mdevice\u001b[0m\u001b[0;34m)\u001b[0m\u001b[0;34m,\u001b[0m \u001b[0my\u001b[0m\u001b[0;34m.\u001b[0m\u001b[0mto\u001b[0m\u001b[0;34m(\u001b[0m\u001b[0mdevice\u001b[0m\u001b[0;34m)\u001b[0m\u001b[0;34m\u001b[0m\u001b[0;34m\u001b[0m\u001b[0m\n\u001b[0m\u001b[1;32m      5\u001b[0m         \u001b[0mpred\u001b[0m \u001b[0;34m=\u001b[0m \u001b[0mmodel\u001b[0m\u001b[0;34m(\u001b[0m\u001b[0mX\u001b[0m\u001b[0;34m)\u001b[0m\u001b[0;34m\u001b[0m\u001b[0;34m\u001b[0m\u001b[0m\n\u001b[1;32m      6\u001b[0m         \u001b[0mloss\u001b[0m \u001b[0;34m=\u001b[0m \u001b[0mloss_fn\u001b[0m\u001b[0;34m(\u001b[0m\u001b[0mpred\u001b[0m\u001b[0;34m,\u001b[0m \u001b[0my\u001b[0m\u001b[0;34m)\u001b[0m\u001b[0;34m\u001b[0m\u001b[0;34m\u001b[0m\u001b[0m\n",
      "\u001b[0;31mRuntimeError\u001b[0m: CUDA error: device-side assert triggered"
     ]
    }
   ],
   "source": [
    "CUDA_LAUNCH_BLOCKING=\"1\"\n",
    "epochs = 10\n",
    "for t in range(epochs):\n",
    "    print(f\"Epoch {t+1}\\n---------------------------------------------------------------------------\")\n",
    "    train(train_loader, model, loss_fn, optimizer)\n",
    "print(\"Training Completed\")"
   ]
  },
  {
   "cell_type": "code",
   "execution_count": null,
   "metadata": {},
   "outputs": [],
   "source": []
  }
 ],
 "metadata": {
  "accelerator": "GPU",
  "colab": {
   "collapsed_sections": [],
   "name": "Pytorch_basics.ipynb",
   "provenance": []
  },
  "kernelspec": {
   "display_name": "Python 3",
   "language": "python",
   "name": "python3"
  },
  "language_info": {
   "codemirror_mode": {
    "name": "ipython",
    "version": 3
   },
   "file_extension": ".py",
   "mimetype": "text/x-python",
   "name": "python",
   "nbconvert_exporter": "python",
   "pygments_lexer": "ipython3",
   "version": "3.8.5"
  }
 },
 "nbformat": 4,
 "nbformat_minor": 4
}
